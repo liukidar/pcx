{
 "cells": [
  {
   "cell_type": "markdown",
   "metadata": {},
   "source": [
    "In this tutorial we analyse how the energy in a MLP neural network (trained with PC) could be used to assess if \n",
    "test data belongs to in-distribution or out-of-distribution. We will use the energy of the network as a measure of\n",
    "surprise.\n",
    "\n",
    "1. Prepare the in-distribution (MNIST) and out-of-distribution (FashionMNIST) datasets.\n",
    "2. Training phase: Train a MLP neural network with PC on MNIST.\n",
    "3. Testing phase: Test the network with MNIST and FashionMNIST.\n",
    "4. Plots and tables:\n",
    "    1. Plot the energy distribution histograms to visualize the distribution and spread of the energy for in-distribution and out-of-distribution data, use separate histograms for each dataset and overlay them for comparison.\n",
    "    2. Create box plots to show the median, quartiles, and outliers of the energies to summarize the central tendency and variability of energies.\n",
    "    3. Generate a Receiver Operating Characteristic (ROC) curve based on the energies to assess the model's ability to distinguish between in-distribution and out-of-distribution data. Plot true positive rate (sensitivity) against false positive rate (1-specificity) for different threshold values of energies.\n",
    "    4. Create a table summarizing key statistics (mean, median, standard deviation) of energies for MNIST and FashionMNIST. Include columns for MNIST and FashionMNIST with rows for each statistic.\n",
    "    5. Create a scatter plot of energies versus prediction confidence (max softmax value) for both MNIST and FashionMNIST. Goal is to investigate the relationship/correlation between model confidence and energy value. Use different colors or markers for MNIST and FashionMNIST data points.\n",
    "\n",
    "\n"
   ]
  },
  {
   "cell_type": "code",
   "execution_count": 2,
   "metadata": {},
   "outputs": [
    {
     "name": "stdout",
     "output_type": "stream",
     "text": [
      "Number of noisy samples: 0\n"
     ]
    }
   ],
   "source": [
    "import numpy as np\n",
    "\n",
    "# create random dataset targets of shape (num_samples,)    \n",
    "num_samples = 1000\n",
    "num_classes = 10\n",
    "targets = np.random.randint(0, num_classes, num_samples)\n",
    "num_classes = len(np.unique(targets))\n",
    "noise_level = 0.0\n",
    "num_noisy = int(noise_level * len(targets))\n",
    "noisy_indices = np.random.choice(len(targets), num_noisy, replace=False)\n",
    "# show how many samples are noisy\n",
    "print(f\"Number of noisy samples: {len(noisy_indices)}\")"
   ]
  },
  {
   "cell_type": "code",
   "execution_count": 16,
   "metadata": {},
   "outputs": [
    {
     "name": "stdout",
     "output_type": "stream",
     "text": [
      "Mean: 0.00011498326057335362, Std: 1.0000687837600708\n",
      "Min: -0.8101983666419983, Max: 2.022662878036499\n"
     ]
    }
   ],
   "source": [
    "# load the fashion mnist data from pytorch and compute the mean and std of the data\n",
    "import torch\n",
    "from torchvision import datasets, transforms\n",
    "\n",
    "# Define the transform\n",
    "transform = transforms.Compose([transforms.ToTensor()])\n",
    "\n",
    "\"\"\"\n",
    "# Define a transform to normalize the data\n",
    "transform = transforms.Compose([transforms.ToTensor(),\n",
    "                              transforms.Normalize((0.5,), (0.5,)),\n",
    "                              ])\n",
    "# Define the transform with normalization\n",
    "transform = transforms.Compose([\n",
    "    transforms.ToTensor(),\n",
    "    transforms.Normalize((0.2860,), (0.3530,))\n",
    "])\n",
    "\"\"\"\n",
    "\n",
    "# Load the dataset with the transform\n",
    "train_data = datasets.FashionMNIST(root='data', train=True, download=True, transform=transform)\n",
    "\n",
    "# Create a DataLoader to iterate through the dataset\n",
    "train_loader = torch.utils.data.DataLoader(train_data, batch_size=len(train_data))\n",
    "\n",
    "# Extract a batch of data\n",
    "data_iter = iter(train_loader)\n",
    "images, labels = next(data_iter)\n",
    "\n",
    "# Compute mean and std of the transformed data\n",
    "mean = images.mean()\n",
    "std = images.std()\n",
    "\n",
    "# Print the mean and std of the transformed data\n",
    "print(f\"Mean: {mean}, Std: {std}\")\n",
    "\n",
    "# Show the min and max values of the transformed data\n",
    "print(f\"Min: {images.min()}, Max: {images.max()}\")"
   ]
  },
  {
   "cell_type": "code",
   "execution_count": 17,
   "metadata": {},
   "outputs": [
    {
     "name": "stdout",
     "output_type": "stream",
     "text": [
      "Mean: -0.00012828900071326643, Std: 1.0000253915786743\n",
      "Min: -0.4242129623889923, Max: 2.821486711502075\n"
     ]
    }
   ],
   "source": [
    "# load the mnist data from pytorch and compute the mean and std of the data\n",
    "import torch\n",
    "from torchvision import datasets, transforms\n",
    "\n",
    "# Define the transform\n",
    "transform = transforms.Compose([transforms.ToTensor()])\n",
    "\n",
    "\"\"\"\n",
    "# Define a transform to normalize the data\n",
    "transform = transforms.Compose([transforms.ToTensor(),\n",
    "                              transforms.Normalize((0.5,), (0.5,)),\n",
    "                              ])\n",
    "# Define the transform with normalization\n",
    "transform = transforms.Compose([\n",
    "    transforms.ToTensor(),\n",
    "    transforms.Normalize((0.1307,), (0.3081,))\n",
    "])\n",
    "\"\"\"\n",
    "\n",
    "# Load the dataset with the transform\n",
    "train_data = datasets.MNIST(root='data', train=True, download=True, transform=transform)\n",
    "\n",
    "# Create a DataLoader to iterate through the dataset\n",
    "train_loader = torch.utils.data.DataLoader(train_data, batch_size=len(train_data))\n",
    "\n",
    "# Extract a batch of data\n",
    "data_iter = iter(train_loader)\n",
    "images, labels = next(data_iter)\n",
    "\n",
    "# Compute mean and std of the transformed data\n",
    "mean = images.mean()\n",
    "std = images.std()\n",
    "\n",
    "# Print the mean and std of the transformed data\n",
    "print(f\"Mean: {mean}, Std: {std}\")\n",
    "\n",
    "# Show the min and max values of the transformed data\n",
    "print(f\"Min: {images.min()}, Max: {images.max()}\")"
   ]
  },
  {
   "cell_type": "code",
   "execution_count": null,
   "metadata": {},
   "outputs": [],
   "source": []
  }
 ],
 "metadata": {
  "kernelspec": {
   "display_name": "pcax24",
   "language": "python",
   "name": "python3"
  },
  "language_info": {
   "codemirror_mode": {
    "name": "ipython",
    "version": 3
   },
   "file_extension": ".py",
   "mimetype": "text/x-python",
   "name": "python",
   "nbconvert_exporter": "python",
   "pygments_lexer": "ipython3",
   "version": "3.10.14"
  }
 },
 "nbformat": 4,
 "nbformat_minor": 2
}
