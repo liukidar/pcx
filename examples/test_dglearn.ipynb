{
 "cells": [
  {
   "cell_type": "code",
   "execution_count": 1,
   "metadata": {},
   "outputs": [
    {
     "name": "stdout",
     "output_type": "stream",
     "text": [
      "Add edge: 4 -> 1, Delta Score: 2.756e-01 best score: 0.2756288209166386\n",
      "Add edge: 4 -> 3, Delta Score: 1.382e-01 best score: 0.41380665739756883\n",
      "Add edge: 2 -> 3, Delta Score: 1.119e-01 best score: 0.5256608592198844\n",
      "Add edge: 0 -> 1, Delta Score: 6.950e-02 best score: 0.5951566659050848\n",
      "Add edge: 5 -> 4, Delta Score: 4.961e-02 best score: 0.6447658421718796\n",
      "Add edge: 2 -> 1, Delta Score: 3.090e-02 best score: 0.6756610363954064\n",
      "Add edge: 3 -> 5, Delta Score: 2.199e-02 best score: 0.6976492192673613\n",
      "Add edge: 3 -> 4, Delta Score: 6.061e-03 best score: 0.7037106966902625\n",
      "Add edge: 1 -> 2, Delta Score: 3.447e-03 best score: 0.7071574260042943\n",
      "Del edge: 4 -> 3, Delta Score: 4.539e-04 best score: 0.7076113629276689\n",
      "Del edge: 2 -> 1, Delta Score: 3.933e-04 best score: 0.7080046210652564\n",
      "Del edge: 3 -> 5, Delta Score: 4.358e-04 best score: 0.7084404089285486\n",
      "Add edge: 0 -> 4, Delta Score: -3.731e-04 best score: 0.7084404089285486\n",
      "Add edge: 1 -> 0, Delta Score: -4.181e-04 best score: 0.7084404089285486\n",
      "Add edge: 4 -> 2, Delta Score: -4.244e-04 best score: 0.7084404089285486\n",
      "Add edge: 5 -> 1, Delta Score: -4.242e-04 best score: 0.7084404089285486\n",
      "*Refine with greedy steps*\n",
      "virtual edge correction...\n"
     ]
    }
   ],
   "source": [
    "import sys\n",
    "sys.path.append('/home/amine.mcharrak/clear2025/dglearn/')\n",
    "\n",
    "from dglearn import *\n",
    "\n",
    "# example graph structure with 6 variables\n",
    "n_vars = 6\n",
    "edges = [(0, 1), (1, 2), (2, 3), (3, 4), (4, 1), (5, 4)]\n",
    "var_names = {i:\"$X_%d$\"%(i+1) for i in range(n_vars)}\n",
    "\n",
    "# generate random parameters for true graph structure\n",
    "B_support = edges2array(edges, n_vars) - np.eye(n_vars)\n",
    "B_sampled, s_sampled = sample_param_unif(B_support, B_low=0.2, B_high=0.8, var_low=1.0, var_high=3.0)\n",
    "\n",
    "# generate samples from distribution specified by sampled parameters\n",
    "X = sample_graph(B_sampled, s_sampled, 10000)\n",
    "\n",
    "# learn structure using tabu search, plot learned structure\n",
    "tabu_length = 4\n",
    "patience = 4\n",
    "\n",
    "manager = CyclicManager(X, bic_coef=0.5)\n",
    "learned_support, best_score, log = tabu_search(manager, tabu_length, patience, first_ascent=False, verbose=1) # returns a binary matrix as learned support\n",
    "\n",
    "# perform virtual edge correction\n",
    "print(\"virtual edge correction...\")\n",
    "learned_support = virtual_refine(manager, learned_support, patience=0, max_path_len=6, verbose=1) # still is still a binary matrix\n",
    "\n",
    "# remove any reducible edges\n",
    "learned_support = reduce_support(learned_support, fill_diagonal=False)\n",
    "\n",
    "# plot true and learned directed graphs\n",
    "plot_collection({'true': edges, 'learned': array2edges(learned_support)}, n_vars, name_list=var_names,\n",
    "                latex=False, n_cols=2, node_size=600, font_size=14, width=2, save_path=\"./assets/dg6_learning_result.png\")\n",
    "\n",
    "# compute performance metric: SHD\n",
    "true_graph = AdjacencyStucture(n_vars, edge_list=edges)\n",
    "search = GraphEquivalenceSearch(true_graph)\n",
    "search.search_dfs()\n",
    "equiv_class = [binary2array(bstr) for bstr in search.visited_graphs]"
   ]
  },
  {
   "cell_type": "code",
   "execution_count": null,
   "metadata": {},
   "outputs": [],
   "source": []
  }
 ],
 "metadata": {
  "kernelspec": {
   "display_name": "pcax24",
   "language": "python",
   "name": "python3"
  },
  "language_info": {
   "codemirror_mode": {
    "name": "ipython",
    "version": 3
   },
   "file_extension": ".py",
   "mimetype": "text/x-python",
   "name": "python",
   "nbconvert_exporter": "python",
   "pygments_lexer": "ipython3",
   "version": "3.10.14"
  }
 },
 "nbformat": 4,
 "nbformat_minor": 2
}
