{
 "cells": [
  {
   "cell_type": "markdown",
   "metadata": {},
   "source": [
    "# Here we run benchmark causal discovery algorithms on the big ER graph and connectome graph."
   ]
  },
  {
   "cell_type": "code",
   "execution_count": 1,
   "metadata": {},
   "outputs": [
    {
     "name": "stderr",
     "output_type": "stream",
     "text": [
      "2024-09-02 20:48:53.262928: W external/xla/xla/service/gpu/nvptx_compiler.cc:760] The NVIDIA driver's CUDA version is 12.2 which is older than the ptxas CUDA version (12.5.40). Because the driver is older than the ptxas version, XLA is disabling parallel compilation, which may slow down compilation. You should update your NVIDIA driver or use the NVIDIA-provided CUDA forward compatibility packages.\n",
      "Detecting CUDA device(s) : [0]\n"
     ]
    }
   ],
   "source": [
    "import os\n",
    "\n",
    "# choose the GPU to use\n",
    "os.environ[\"CUDA_VISIBLE_DEVICES\"] = \"0\"\n",
    "# disable preallocation of memory\n",
    "os.environ[\"XLA_PYTHON_CLIENT_PREALLOCATE\"] = \"false\"\n",
    "\n",
    "# pcax\n",
    "import pcax as px\n",
    "import pcax.predictive_coding as pxc\n",
    "import pcax.nn as pxnn\n",
    "import pcax.functional as pxf\n",
    "import pcax.utils as pxu\n",
    "\n",
    "# 3rd party\n",
    "import jax\n",
    "from jax import jit\n",
    "import jax.numpy as jnp\n",
    "import optax\n",
    "import numpy as np\n",
    "\n",
    "import networkx as nx\n",
    "import matplotlib.pyplot as plt\n",
    "import seaborn as sns\n",
    "from tqdm.auto import tqdm\n",
    "import torch\n",
    "import timeit\n",
    "\n",
    "# own\n",
    "import causal_helpers\n",
    "from causal_helpers import simulate_dag, simulate_parameter, simulate_linear_sem, simulate_linear_sem_cyclic\n",
    "from causal_helpers import load_adjacency_matrix, set_random_seed, plot_adjacency_matrices\n",
    "\n",
    "# Set random seed\n",
    "seed = 23\n",
    "set_random_seed(seed)\n",
    "\n",
    "# causal libraries\n",
    "import cdt, castle, dodiscover\n",
    "\n",
    "# causal algorithms\n",
    "from dodiscover.toporder import DAS, SCORE, CAM\n",
    "from dodiscover import make_context\n",
    "\n",
    "# causal metrics\n",
    "from cdt.metrics import precision_recall, SHD, SID\n",
    "from castle.metrics import MetricsDAG\n",
    "from castle.common import GraphDAG\n",
    "from causallearn.graph.SHD import SHD as SHD_causallearn"
   ]
  },
  {
   "cell_type": "markdown",
   "metadata": {},
   "source": [
    "## Load the actual connectome data"
   ]
  },
  {
   "cell_type": "code",
   "execution_count": 2,
   "metadata": {},
   "outputs": [
    {
     "name": "stdout",
     "output_type": "stream",
     "text": [
      "Adjacency matrix loaded from ./data/G_A_init_t_ordered_adj_matrix.npy\n",
      "Adjacency matrix loaded from ./data/G_A_init_t_ordered_dag_adj_matrix.npy\n",
      "Adjacency matrix loaded from ./data/ER_adj_matrix.npy\n",
      "Adjacency matrix loaded from ./data/ER_dag_adj_matrix.npy\n"
     ]
    }
   ],
   "source": [
    "# load the weighted adjacency matrices for ER and connectome\n",
    "\n",
    "# Specify the folder where the adjacency matrices were saved\n",
    "folder = './data/'\n",
    "\n",
    "# Example usage to load the saved adjacency matrices\n",
    "G_A_init_t_ordered_adj_matrix = load_adjacency_matrix(os.path.join(folder, 'G_A_init_t_ordered_adj_matrix.npy'))\n",
    "G_A_init_t_ordered_dag_adj_matrix = load_adjacency_matrix(os.path.join(folder, 'G_A_init_t_ordered_dag_adj_matrix.npy'))\n",
    "ER = load_adjacency_matrix(os.path.join(folder, 'ER_adj_matrix.npy'))\n",
    "ER_dag = load_adjacency_matrix(os.path.join(folder, 'ER_dag_adj_matrix.npy'))\n",
    "\n",
    "# Change name of the connectome adjacency matrix to C and C_dag\n",
    "C = G_A_init_t_ordered_adj_matrix\n",
    "C_dag = G_A_init_t_ordered_dag_adj_matrix\n",
    "\n",
    "# Now ensure that both DAG adjacency matrices are binary, if they aren't already\n",
    "ER_dag_bin = (ER_dag != 0).astype(int)\n",
    "C_dag_bin = (C_dag != 0).astype(int)\n",
    "\n",
    "ER_true = ER_dag_bin\n",
    "C_true = C_dag_bin"
   ]
  },
  {
   "cell_type": "markdown",
   "metadata": {},
   "source": [
    "## Create data to debug and implement the pcax version of NOTEARS"
   ]
  },
  {
   "cell_type": "code",
   "execution_count": 3,
   "metadata": {},
   "outputs": [],
   "source": [
    "# actual data\n",
    "#B_true = simulate_dag(d=100, s0=400, graph_type='ER') # ER4\n",
    "# debugging data\n",
    "#B_true = simulate_dag(d=10, s0=20, graph_type='ER') # ER2\n",
    "\n",
    "\n",
    "#B_true = C_dag_bin # if you want to use the connectome-based DAG # best performance so far with 200,000 samples: 0.06 \n",
    "#B_true = ER_dag_bin # if you want to use the ER-based DAG\n",
    "\n",
    "\n",
    "#B_true = simulate_dag(d=50, s0=100, graph_type='ER') # ER2\n",
    "#B_true = simulate_dag(d=100, s0=200, graph_type='ER') # ER2\n",
    "#B_true = simulate_dag(d=279, s0=558, graph_type='ER') # ER2\n",
    "\n",
    "# create equivalent ER4 and ER6 graphs\n",
    "#B_true = simulate_dag(d=279, s0=1116, graph_type='ER') # ER4\n",
    "#B_true = simulate_dag(d=279, s0=1674, graph_type='ER') # ER6\n",
    "\n",
    "# create equivalent SF4 and SF6 graphs\n",
    "B_true = simulate_dag(d=100, s0=200, graph_type='SF') # SF2\n",
    "#B_true = simulate_dag(d=279, s0=1116, graph_type='SF') # SF4\n",
    "#B_true = simulate_dag(d=279, s0=1674, graph_type='SF') # SF6\n",
    "\n",
    "\n",
    "# create simple data using simulate_dag method from causal_helpers with expected number of edges (s0) and number of nodes (d)\n",
    "#B_true = simulate_dag(d=100, s0=199, graph_type='ER') # we use p≈0.040226 for the connectome-based ER_dag graph. This means that the expected number of edges is 0.040226 * d * (d-1) / 2\n",
    "# examples: d=50 -> s0=49 (works), d=100 -> s0=199, d=200 -> s0=800\n",
    "W_true = simulate_parameter(B_true)\n",
    "\n",
    "# sample data from the linear SEM\n",
    "# actual data\n",
    "#X = simulate_linear_sem(W_true, n=25000, sem_type='gauss')\n",
    "# for debugging\n",
    "X = simulate_linear_sem(W_true, n=1000, sem_type='gauss')\n",
    "#X = simulate_linear_sem(W_true, n=2500, sem_type='gauss')\n",
    "#X = simulate_linear_sem(W_true, n=6250, sem_type='gauss')\n",
    "#X = simulate_linear_sem(W_true, n=50000, sem_type='gauss')\n",
    "#X = simulate_linear_sem(W_true, n=100000, sem_type='gauss') # 1000*(279**2)/(20**2) = 194602\n",
    "\n",
    "# now standardized data, where each variable is normalized to unit variance\n",
    "from sklearn.preprocessing import StandardScaler\n",
    "scaler = StandardScaler()\n",
    "X_std = scaler.fit_transform(X)\n",
    "\n",
    "# NOTE: you may not write positional arguments after keyword arguments. \n",
    "# That is, the values that you are passing positionally have to come first!\n",
    "\n",
    "# create a dataset using the simulated data\n",
    "# NOTE: NOTEARS paper uses n=1000 for graph with d=20.\n",
    "# NOTE: d... number of nodes, p=d^2... number of parameters, n... number of samples. Then: comparing p1=d1^2 vs p2=d2^2 we have that: n1/p1 must be equal to n2/p2\n",
    "# Thus we have n2 = n1 * p2 / p1. For the case of d2=100 we have that n2 = (n1*p2)/p1 = 1000*(100^2)/(20^2) = 25000 \n",
    "# we should expect to use that many samples actually to be able to learn the graph in a comparable way.\n",
    "#dataset = IIDSimulation(W=W_true, n=25000, method='linear', sem_type='gauss')\n",
    "#true_dag, X = dataset.B, dataset.X"
   ]
  },
  {
   "cell_type": "code",
   "execution_count": 4,
   "metadata": {},
   "outputs": [
    {
     "name": "stdout",
     "output_type": "stream",
     "text": [
      "197.0\n"
     ]
    }
   ],
   "source": [
    "print(np.sum(B_true))"
   ]
  },
  {
   "cell_type": "markdown",
   "metadata": {},
   "source": [
    "## Implement the PCAX version of NOTEARS ##"
   ]
  },
  {
   "cell_type": "code",
   "execution_count": 5,
   "metadata": {},
   "outputs": [
    {
     "name": "stdout",
     "output_type": "stream",
     "text": [
      "[[ 0.         -0.09561353 -0.06821994 ... -0.07473207  0.05317233\n",
      "  -0.02829053]\n",
      " [-0.06060278  0.         -0.06393144 ...  0.0393266   0.03645904\n",
      "  -0.08239524]\n",
      " [ 0.06466318 -0.04784961  0.         ...  0.04066072  0.09470291\n",
      "  -0.06204743]\n",
      " ...\n",
      " [ 0.03460575 -0.02684033  0.02058308 ...  0.         -0.03523009\n",
      "  -0.01664074]\n",
      " [ 0.08191302  0.02781131 -0.00571911 ... -0.0856324   0.\n",
      "   0.09918385]\n",
      " [ 0.06995776 -0.05185189 -0.00711624 ...  0.00537512 -0.09631243\n",
      "   0.        ]]\n",
      "\n",
      "(100, 100)\n",
      "(Complete_Graph):\n",
      "  .has_bias: False\n",
      "  .layers[0].nn.weight: LayerParam([100,100], float32)\n",
      "  .vodes[0].h: VodeParam(None)\n",
      "  .vodes[0].cache: Cache(params=None)\n",
      "True\n",
      "False\n"
     ]
    }
   ],
   "source": [
    "# v1: single vode\n",
    "class Complete_Graph(pxc.EnergyModule):\n",
    "    def __init__(self, input_dim: int, n_nodes: int, has_bias: bool = False) -> None:\n",
    "        super().__init__()\n",
    "\n",
    "        self.input_dim = px.static(input_dim)  # Ensure input_dim is static\n",
    "        self.n_nodes = px.static(n_nodes)  # Keep n_nodes as a static value\n",
    "        self.has_bias = has_bias\n",
    "\n",
    "        # Initialize a single linear layer for the weights and wrap it in a list\n",
    "        self.layers = [pxnn.Linear(n_nodes * input_dim, n_nodes * input_dim, bias=has_bias)]\n",
    "        \n",
    "        # Zero out the diagonal weights to avoid self-loops\n",
    "        weight_matrix = self.layers[0].nn.weight.get()\n",
    "        weight_matrix = weight_matrix.reshape(n_nodes, input_dim, n_nodes, input_dim)\n",
    "        for i in range(n_nodes):\n",
    "            weight_matrix = weight_matrix.at[i, :, i, :].set(jnp.zeros((input_dim, input_dim)))\n",
    "        self.layers[0].nn.weight.set(weight_matrix.reshape(n_nodes * input_dim, n_nodes * input_dim))\n",
    "\n",
    "        # Initialize vodes as a list containing a single matrix\n",
    "        self.vodes = [pxc.Vode((n_nodes, input_dim))]\n",
    "\n",
    "    def freeze_nodes(self, freeze=True):\n",
    "        self.vodes[0].h.frozen = freeze\n",
    "\n",
    "    def are_vodes_frozen(self):\n",
    "        \"\"\"Check if all vodes in the model are frozen.\"\"\"\n",
    "        return self.vodes[0].h.frozen\n",
    "    \n",
    "    def get_W(self):\n",
    "        \"\"\"This function returns the weighted adjacency matrix based on the linear layer in the model.\"\"\"\n",
    "        W = self.layers[0].nn.weight.get()\n",
    "        W_T = W.T\n",
    "        return W_T\n",
    "\n",
    "    def __call__(self, x=None):\n",
    "        n_nodes = self.n_nodes.get()\n",
    "        input_dim = self.input_dim.get()\n",
    "        if x is not None:\n",
    "            # print the shape of x before reshaping when x is not None\n",
    "            #print(\"The shape of x before reshaping when x is not None: \", x.shape)\n",
    "\n",
    "            # Initialize nodes with given data\n",
    "            reshaped_x = x.reshape(n_nodes, input_dim)\n",
    "\n",
    "            # print the shape of reshaped_x when x is not None\n",
    "            #print(\"The shape of reshaped_x when x is not None: \", reshaped_x.shape)\n",
    "\n",
    "            self.vodes[0](reshaped_x)\n",
    "        else:\n",
    "            # Perform forward pass using stored values\n",
    "            #x_ = self.vodes[0].get('h').reshape(n_nodes * input_dim, 1)\n",
    "\n",
    "            x_ = self.vodes[0].get('h')\n",
    "            # print the shape of x_ when x is None before reshaping\n",
    "            #print(\"The shape of x_ when x is None before reshaping: \", x_.shape)\n",
    "\n",
    "            x_ = x_.reshape(n_nodes * input_dim, 1)\n",
    "            # print the shape of x_ when x is None after reshaping\n",
    "            #print(\"The shape of x_ when x is None after reshaping: \", x_.shape)\n",
    "\n",
    "            # Perform the matrix-matrix multiplication\n",
    "            #output = self.layers[0](x_).reshape(n_nodes, input_dim)\n",
    "\n",
    "            output = self.layers[0](x_)\n",
    "            # print the shape of output before reshaping\n",
    "            #print(\"The shape of output before reshaping: \", output.shape)\n",
    "            #output = output.reshape(n_nodes, input_dim)\n",
    "            # print the shape of output after reshaping\n",
    "            #print(\"The shape of output after reshaping: \", output.shape)\n",
    "\n",
    "            # Set the new values in vodes\n",
    "            self.vodes[0](output)\n",
    "\n",
    "        # Return the output directly\n",
    "        return self.vodes[0].get('h')\n",
    "\n",
    "# Usage\n",
    "input_dim = 1\n",
    "n_nodes = X.shape[1]\n",
    "model = Complete_Graph(input_dim, n_nodes, has_bias=False)\n",
    "\n",
    "# Get weighted adjacency matrix\n",
    "W = model.get_W()\n",
    "print(W)\n",
    "print()\n",
    "print(W.shape)\n",
    "print(model)\n",
    "\n",
    "\n",
    "# Freezing all nodes\n",
    "model.freeze_nodes(freeze=True)\n",
    "\n",
    "# Check if all nodes are frozen\n",
    "print(model.are_vodes_frozen())\n",
    "\n",
    "# Unfreezing all nodes\n",
    "model.freeze_nodes(freeze=False)\n",
    "\n",
    "# Check if all nodes are frozen\n",
    "print(model.are_vodes_frozen())"
   ]
  },
  {
   "cell_type": "code",
   "execution_count": 6,
   "metadata": {},
   "outputs": [],
   "source": [
    "# TODO: make the below params global or input to the functions in which it is used.\n",
    "w_learning_rate = 5e-3 # Notes: 5e-1 is too high\n",
    "h_learning_rate = 5e-4\n",
    "T = 1\n",
    "\n",
    "nm_epochs = 10000\n",
    "batch_size = 128\n",
    "\n",
    "lam_h = 1e2\n",
    "lam_l1 = 1e-2"
   ]
  },
  {
   "cell_type": "code",
   "execution_count": 7,
   "metadata": {},
   "outputs": [],
   "source": [
    "# Training and evaluation functions\n",
    "@pxf.vmap(pxu.Mask(pxc.VodeParam | pxc.VodeParam.Cache, (None, 0)), in_axes=(0,), out_axes=0)\n",
    "def forward(x, *, model: Complete_Graph):\n",
    "    return model(x)\n",
    "\n",
    "@pxf.vmap(pxu.Mask(pxc.VodeParam | pxc.VodeParam.Cache, (None, 0)), out_axes=(None, 0), axis_name=\"batch\")\n",
    "def energy(*, model: Complete_Graph):\n",
    "    x_ = model(None)\n",
    "    \n",
    "    W = model.get_W()\n",
    "    d = model.n_nodes.get()\n",
    "\n",
    "    # compute the PC energy term (loss) - equivalent to negative log-likelihood\n",
    "    # thus no need to consider the logdet term: -jnp.linalg.slogdet(jnp.eye(d) - W)[1]\n",
    "    energy = model.energy()\n",
    "\n",
    "    # compute L1 regularization term of W (not normalized by batch size)\n",
    "    l1_reg = jnp.sum(jnp.abs(W))\n",
    "\n",
    "    # compute the DAG penalty term using the matrix exponential (h_reg)\n",
    "    h_reg = jnp.trace(jax.scipy.linalg.expm(W * W)) - d\n",
    "    \n",
    "    # Combine loss, soft DAG constraint, and L1 regularization\n",
    "    obj = jax.lax.pmean(energy, axis_name=\"batch\") + lam_h * h_reg + lam_l1 * l1_reg\n",
    "\n",
    "    return obj, x_\n",
    "\n",
    "@pxf.jit(static_argnums=0)\n",
    "def train_on_batch(T: int, x: jax.Array, *, model: Complete_Graph, optim_w: pxu.Optim, optim_h: pxu.Optim):\n",
    "\n",
    "    print(\"Training!\")  # this will come in handy later\n",
    "\n",
    "    # This only sets an internal flag to be \"train\" (instead of \"eval\")\n",
    "    model.train()\n",
    "\n",
    "    # freeze nodes at the start of training\n",
    "    model.freeze_nodes(freeze=True)\n",
    "\n",
    "    # init step\n",
    "    with pxu.step(model, pxc.STATUS.INIT, clear_params=pxc.VodeParam.Cache):\n",
    "        forward(x, model=model)\n",
    "\n",
    "\n",
    "    \"\"\"\n",
    "    # The following code might not be needed as we are keeping the vodes frozen at all times\n",
    "    # Reinitialize the optimizer state between different batches\n",
    "    optim_h.init(pxu.Mask(pxc.VodeParam)(model))\n",
    "\n",
    "    for _ in range(T):\n",
    "        with pxu.step(model, clear_params=pxc.VodeParam.Cache):\n",
    "            (e, x_), g = pxf.value_and_grad(\n",
    "                pxu.Mask(pxu.m(pxc.VodeParam).has_not(frozen=True), [False, True]),\n",
    "                has_aux=True\n",
    "            )(energy)(model=model)\n",
    "        optim_h.step(model, g[\"model\"], True)\n",
    "    \"\"\"\n",
    "        \n",
    "    with pxu.step(model, clear_params=pxc.VodeParam.Cache):\n",
    "        _, g = pxf.value_and_grad(pxu.Mask(pxnn.LayerParam, [False, True]), has_aux=True)(energy)(model=model)\n",
    "        \n",
    "        # Zero out the diagonal gradients using jax.numpy.fill_diagonal\n",
    "        weight_grads = g[\"model\"].layers[0].nn.weight.get()\n",
    "        weight_grads = jax.numpy.fill_diagonal(weight_grads, 0.0, inplace=False)\n",
    "        # print the grad values using the syntax jax.debug.print(\"🤯 {x} 🤯\", x=x)\n",
    "        #jax.debug.print(\"{weight_grads}\", weight_grads=weight_grads)\n",
    "        g[\"model\"].layers[0].nn.weight.set(weight_grads)\n",
    "\n",
    "    optim_w.step(model, g[\"model\"])\n",
    "\n",
    "    with pxu.step(model, clear_params=pxc.VodeParam.Cache):\n",
    "        forward(None, model=model)\n",
    "        e_avg_per_sample = model.energy() # this returns average value of objective per sample in the batch\n",
    "\n",
    "    # unfreeze nodes at the end of training\n",
    "    model.freeze_nodes(freeze=False)\n",
    "\n",
    "    return e_avg_per_sample\n",
    "\n",
    "def train(dl, T, *, model: Complete_Graph, optim_w: pxu.Optim, optim_h: pxu.Optim):\n",
    "    e_avg_per_sample_energies = []\n",
    "    for batch in dl:\n",
    "\n",
    "        e_avg_per_sample = train_on_batch(T, batch, model=model, optim_w=optim_w, optim_h=optim_h)\n",
    "        e_avg_per_sample_energies.append(e_avg_per_sample)\n",
    "\n",
    "    W = model.get_W()\n",
    "\n",
    "    # compute epoch energy\n",
    "    epoch_energy = jnp.mean(jnp.array(e_avg_per_sample_energies))\n",
    "    return W, epoch_energy"
   ]
  },
  {
   "cell_type": "code",
   "execution_count": 8,
   "metadata": {},
   "outputs": [],
   "source": [
    "@jit\n",
    "def MAE(W_true, W):\n",
    "    \"\"\"This function returns the Mean Absolute Error for the difference between the true weighted adjacency matrix W_true and th estimated one, W.\"\"\"\n",
    "    MAE_ = jnp.mean(jnp.abs(W - W_true))\n",
    "    return MAE_\n",
    "\n",
    "def compute_binary_adjacency(W, threshold=0.3):\n",
    "    \"\"\"\n",
    "    Compute the binary adjacency matrix by thresholding the input matrix.\n",
    "\n",
    "    Args:\n",
    "    - W (array-like): The weighted adjacency matrix (can be a JAX array or a NumPy array).\n",
    "    - threshold (float): The threshold value to determine the binary matrix. Default is 0.3.\n",
    "\n",
    "    Returns:\n",
    "    - B_est (np.ndarray): The binary adjacency matrix where each element is True if the corresponding \n",
    "                          element in W is greater than the threshold, otherwise False.\n",
    "    \"\"\"\n",
    "    # Convert JAX array to NumPy array if necessary\n",
    "    if isinstance(W, jnp.ndarray):\n",
    "        W = np.array(W)\n",
    "\n",
    "    # Compute the binary adjacency matrix\n",
    "    B_est = np.array(np.abs(W) > threshold)\n",
    "    \n",
    "    return B_est"
   ]
  },
  {
   "cell_type": "code",
   "execution_count": 9,
   "metadata": {},
   "outputs": [
    {
     "name": "stdout",
     "output_type": "stream",
     "text": [
      "MAE between the true adjacency matrix and an all-zero matrix:  0.02526076\n",
      "SHD between the true adjacency matrix and an all-zero matrix:  197.0\n"
     ]
    }
   ],
   "source": [
    "# for reference compute the MAE, SID, and SHD between the true adjacency matrix and an all-zero matrix and then print it\n",
    "# this acts as a baseline for the MAE, SID, and SHD similar to how 1/K accuracy acts as a baseline for classification tasks where K is the number of classes\n",
    "W_zero = np.zeros_like(W_true)\n",
    "print(\"MAE between the true adjacency matrix and an all-zero matrix: \", MAE(W_true, W_zero))\n",
    "print(\"SHD between the true adjacency matrix and an all-zero matrix: \", SHD(B_true, compute_binary_adjacency(W_zero)))\n",
    "#print(\"SID between the true adjacency matrix and an all-zero matrix: \", SID(W_true, W_zero))"
   ]
  },
  {
   "cell_type": "code",
   "execution_count": 10,
   "metadata": {},
   "outputs": [],
   "source": [
    "class CustomDataset(torch.utils.data.Dataset):\n",
    "    def __init__(self, X):\n",
    "        self.X = X\n",
    "\n",
    "    def __len__(self):\n",
    "        return len(self.X)\n",
    "\n",
    "    def __getitem__(self, idx):\n",
    "        return self.X[idx]\n",
    "\n",
    "# This is a simple collate function that stacks numpy arrays used to interface\n",
    "# the PyTorch dataloader with JAX. In the future we hope to provide custom dataloaders\n",
    "# that are independent of PyTorch.\n",
    "def numpy_collate(batch):\n",
    "    if isinstance(batch[0], np.ndarray):\n",
    "        return np.stack(batch)\n",
    "    elif isinstance(batch[0], (tuple, list)):\n",
    "        transposed = zip(*batch)\n",
    "        return [numpy_collate(samples) for samples in transposed]\n",
    "    else:\n",
    "        return np.array(batch)\n",
    "\n",
    "# The dataloader assumes cuda is being used, as such it sets 'pin_memory = True' and\n",
    "# 'prefetch_factor = 2'. Note that the batch size should be constant during training, so\n",
    "# we set 'drop_last = True' to avoid having to deal with variable batch sizes.\n",
    "class TorchDataloader(torch.utils.data.DataLoader):\n",
    "    def __init__(\n",
    "        self,\n",
    "        dataset,\n",
    "        batch_size=1,\n",
    "        shuffle=None,\n",
    "        sampler=None,\n",
    "        batch_sampler=None,\n",
    "        num_workers=1,\n",
    "        pin_memory=True,\n",
    "        timeout=0,\n",
    "        worker_init_fn=None,\n",
    "        persistent_workers=True,\n",
    "        prefetch_factor=2,\n",
    "    ):\n",
    "        super(self.__class__, self).__init__(\n",
    "            dataset,\n",
    "            batch_size=batch_size,\n",
    "            shuffle=shuffle,\n",
    "            sampler=sampler,\n",
    "            batch_sampler=batch_sampler,\n",
    "            num_workers=num_workers,\n",
    "            collate_fn=numpy_collate,\n",
    "            pin_memory=pin_memory,\n",
    "            drop_last=True if batch_sampler is None else None,\n",
    "            timeout=timeout,\n",
    "            worker_init_fn=worker_init_fn,\n",
    "            persistent_workers=persistent_workers,\n",
    "            prefetch_factor=prefetch_factor,\n",
    "        )\n",
    "\n",
    "\n",
    "# Create the custom dataset\n",
    "dataset = CustomDataset(X)\n",
    "# Create the custom dataset with standardized data\n",
    "dataset_std = CustomDataset(X_std)\n",
    "\n",
    "# Create the dataloader\n",
    "dl = TorchDataloader(dataset, batch_size=batch_size, shuffle=True)\n",
    "######## OR ########\n",
    "#dl = TorchDataloader(dataset_std, batch_size=batch_size, shuffle=True)"
   ]
  },
  {
   "cell_type": "code",
   "execution_count": 11,
   "metadata": {},
   "outputs": [
    {
     "name": "stdout",
     "output_type": "stream",
     "text": [
      "Start difference (cont.) between W_true and W_init: 0.0735\n",
      "Start SHD between W_true and W_init: 197.0000\n",
      "The diagonal of the initial W:  [0. 0. 0. 0. 0. 0. 0. 0. 0. 0. 0. 0. 0. 0. 0. 0. 0. 0. 0. 0. 0. 0. 0. 0.\n",
      " 0. 0. 0. 0. 0. 0. 0. 0. 0. 0. 0. 0. 0. 0. 0. 0. 0. 0. 0. 0. 0. 0. 0. 0.\n",
      " 0. 0. 0. 0. 0. 0. 0. 0. 0. 0. 0. 0. 0. 0. 0. 0. 0. 0. 0. 0. 0. 0. 0. 0.\n",
      " 0. 0. 0. 0. 0. 0. 0. 0. 0. 0. 0. 0. 0. 0. 0. 0. 0. 0. 0. 0. 0. 0. 0. 0.\n",
      " 0. 0. 0. 0.]\n"
     ]
    },
    {
     "data": {
      "application/vnd.jupyter.widget-view+json": {
       "model_id": "d9c94d350d4c488da6e058210a6df01c",
       "version_major": 2,
       "version_minor": 0
      },
      "text/plain": [
       "  0%|          | 0/10000 [00:00<?, ?it/s]"
      ]
     },
     "metadata": {},
     "output_type": "display_data"
    },
    {
     "name": "stdout",
     "output_type": "stream",
     "text": [
      "Training!\n"
     ]
    },
    {
     "name": "stderr",
     "output_type": "stream",
     "text": [
      "os.fork() was called. os.fork() is incompatible with multithreaded code, and JAX is multithreaded, so this will likely lead to a deadlock.\n"
     ]
    },
    {
     "name": "stdout",
     "output_type": "stream",
     "text": [
      "An epoch (with compiling and testing) took on average: 0.0544 seconds\n",
      "The diagonal of the final W:  [0. 0. 0. 0. 0. 0. 0. 0. 0. 0. 0. 0. 0. 0. 0. 0. 0. 0. 0. 0. 0. 0. 0. 0.\n",
      " 0. 0. 0. 0. 0. 0. 0. 0. 0. 0. 0. 0. 0. 0. 0. 0. 0. 0. 0. 0. 0. 0. 0. 0.\n",
      " 0. 0. 0. 0. 0. 0. 0. 0. 0. 0. 0. 0. 0. 0. 0. 0. 0. 0. 0. 0. 0. 0. 0. 0.\n",
      " 0. 0. 0. 0. 0. 0. 0. 0. 0. 0. 0. 0. 0. 0. 0. 0. 0. 0. 0. 0. 0. 0. 0. 0.\n",
      " 0. 0. 0. 0.]\n"
     ]
    }
   ],
   "source": [
    "# Initialize the model and optimizers\n",
    "with pxu.step(model, pxc.STATUS.INIT, clear_params=pxc.VodeParam.Cache):\n",
    "    forward(jnp.zeros((batch_size, model.n_nodes.get())), model=model)\n",
    "    optim_h = pxu.Optim(optax.sgd(h_learning_rate), pxu.Mask(pxc.VodeParam)(model))\n",
    "    #optim_w = pxu.Optim(optax.sgd(w_learning_rate), pxu.Mask(pxnn.LayerParam)(model))\n",
    "\n",
    "    \"\"\"\n",
    "    optim_w = pxu.Optim(\n",
    "    optax.chain(\n",
    "        optax.clip_by_global_norm(clip_value),  # Clip gradients by global norm\n",
    "        optax.sgd(w_learning_rate)  # Apply SGD optimizer\n",
    "    ),\n",
    "    pxu.Mask(pxnn.LayerParam)(model)  # Masking the parameters of the model\n",
    ")\n",
    "    \"\"\"\n",
    "    #optim_w = pxu.Optim(optax.adafactor(w_learning_rate), pxu.Mask(pxnn.LayerParam)(model))\n",
    "    #optim_w = pxu.Optim(optax.sgd(w_learning_rate, momentum=0.95), pxu.Mask(pxnn.LayerParam)(model))\n",
    "    #optim_w = pxu.Optim(optax.adamw(w_learning_rate, weight_decay=5e-2), pxu.Mask(pxnn.LayerParam)(model))\n",
    "    #optim_w = pxu.Optim(optax.adamw(w_learning_rate, nesterov=True), pxu.Mask(pxnn.LayerParam)(model))\n",
    "    #optim_w = pxu.Optim(optax.adamw(w_learning_rate, nesterov=False), pxu.Mask(pxnn.LayerParam)(model))\n",
    "    optim_w = pxu.Optim(optax.adam(w_learning_rate), pxu.Mask(pxnn.LayerParam)(model))\n",
    "\n",
    "# Initialize lists to store differences and energies\n",
    "MAEs = []\n",
    "SHDs = []\n",
    "energies = []\n",
    "\n",
    "# Calculate the initial MAE, SID, and SHD\n",
    "MAE_init = MAE(W_true, model.get_W())\n",
    "print(f\"Start difference (cont.) between W_true and W_init: {MAE_init:.4f}\")\n",
    "\n",
    "SHD_init = SHD(B_true, compute_binary_adjacency(model.get_W()))\n",
    "print(f\"Start SHD between W_true and W_init: {SHD_init:.4f}\")\n",
    "\n",
    "# print the values of the diagonal of the initial W\n",
    "print(\"The diagonal of the initial W: \", jnp.diag(model.get_W()))\n",
    "\n",
    "# Start timing\n",
    "start_time = timeit.default_timer()\n",
    "\n",
    "# Training loop\n",
    "with tqdm(range(nm_epochs), position=0, leave=True) as pbar:\n",
    "    for epoch in pbar:\n",
    "        # Train for one epoch using the dataloader\n",
    "        W, epoch_energy = train(dl, T=T, model=model, optim_w=optim_w, optim_h=optim_h)\n",
    "        \n",
    "        # Calculate the metrics and store them\n",
    "        W = np.array(W)\n",
    "        MAEs.append(float(MAE(W_true, W)))\n",
    "        SHDs.append(float(SHD(B_true, compute_binary_adjacency(W))))\n",
    "        energies.append(float(epoch_energy))\n",
    "        \n",
    "        # Update progress bar with the current status\n",
    "        pbar.set_description(f\"MAE {MAEs[-1]:.4f}, SHD {SHDs[-1]:.4f} || Energy {energies[-1]:.4f}\")\n",
    "\n",
    "# End timing\n",
    "end_time = timeit.default_timer()\n",
    "\n",
    "# Print the average time per epoch\n",
    "average_time_per_epoch = (end_time - start_time) / nm_epochs\n",
    "print(f\"An epoch (with compiling and testing) took on average: {average_time_per_epoch:.4f} seconds\")\n",
    "# print the values of the diagonal of the final W\n",
    "print(\"The diagonal of the final W: \", jnp.diag(model.get_W()))"
   ]
  },
  {
   "cell_type": "code",
   "execution_count": 12,
   "metadata": {},
   "outputs": [
    {
     "name": "stdout",
     "output_type": "stream",
     "text": [
      "(Complete_Graph):\n",
      "  .has_bias: False\n",
      "  .layers[0].nn.weight: LayerParam([100,100], float32)\n",
      "  .vodes[0].h: VodeParam([128,100,1], float32)\n",
      "  .vodes[0].cache: Cache(params=None)\n",
      "\n",
      "(Complete_Graph):\n",
      "  .layers[0].nn.weight: LayerParam([100,100], float32)\n"
     ]
    }
   ],
   "source": [
    "print(model)\n",
    "print()\n",
    "with pxu.step(model, clear_params=pxc.VodeParam.Cache):\n",
    "    _, g = pxf.value_and_grad(pxu.Mask(pxnn.LayerParam, [False, True]), has_aux=True)(energy)(model=model)\n",
    "    print(g[\"model\"])"
   ]
  },
  {
   "cell_type": "code",
   "execution_count": 13,
   "metadata": {},
   "outputs": [
    {
     "data": {
      "image/png": "[encoded data removed]",
      "text/plain": [
       "<Figure size 1800x500 with 3 Axes>"
      ]
     },
     "metadata": {},
     "output_type": "display_data"
    }
   ],
   "source": [
    "# Set the style and color palette\n",
    "sns.set(style=\"whitegrid\")\n",
    "palette = sns.color_palette(\"tab10\")\n",
    "\n",
    "# Create a figure and axis with a 1x3 layout for side-by-side plots\n",
    "fig, axs = plt.subplots(1, 3, figsize=(18, 5))  # Adjusting layout to 1 row and 3 columns\n",
    "fig.suptitle('Performance Metrics Over Epochs', fontsize=16, weight='bold')\n",
    "\n",
    "# Plot the MAE\n",
    "sns.lineplot(x=range(len(MAEs)), y=MAEs, ax=axs[0], color=palette[0])\n",
    "axs[0].set_title(\"Mean Absolute Error (MAE)\", fontsize=14)\n",
    "axs[0].set_xlabel(\"Epoch\", fontsize=12)\n",
    "axs[0].set_ylabel(\"MAE\", fontsize=12)\n",
    "axs[0].grid(True)\n",
    "\n",
    "# Plot the SHD\n",
    "sns.lineplot(x=range(len(SHDs)), y=SHDs, ax=axs[1], color=palette[2])\n",
    "axs[1].set_title(\"Structural Hamming Distance (SHD)\", fontsize=14)\n",
    "axs[1].set_xlabel(\"Epoch\", fontsize=12)\n",
    "axs[1].set_ylabel(\"SHD\", fontsize=12)\n",
    "axs[1].grid(True)\n",
    "\n",
    "# Plot the Energy\n",
    "sns.lineplot(x=range(len(energies)), y=energies, ax=axs[2], color=palette[3])\n",
    "axs[2].set_title(\"Energy\", fontsize=14)\n",
    "axs[2].set_xlabel(\"Epoch\", fontsize=12)\n",
    "axs[2].set_ylabel(\"Energy\", fontsize=12)\n",
    "axs[2].grid(True)\n",
    "\n",
    "# Improve layout and show the plot\n",
    "plt.tight_layout(rect=[0, 0.03, 1, 0.95])  # Adjust layout to fit the suptitle\n",
    "plt.show()"
   ]
  },
  {
   "cell_type": "code",
   "execution_count": 14,
   "metadata": {},
   "outputs": [],
   "source": [
    "# Now use a threshold of 0.3 to binarize the weighted adjacency matrix W\n",
    "W_est = np.array(model.get_W())\n",
    "B_est = compute_binary_adjacency(W_est, threshold=0.3)"
   ]
  },
  {
   "cell_type": "code",
   "execution_count": 15,
   "metadata": {},
   "outputs": [
    {
     "name": "stdout",
     "output_type": "stream",
     "text": [
      "[[ 0.     -0.0074 -0.0108  0.0211 -0.0233]\n",
      " [-0.0394  0.     -0.0005 -0.0002 -0.015 ]\n",
      " [-0.0022  0.0055  0.     -0.0016 -0.0002]\n",
      " [-0.0003 -0.0041  0.0022  0.     -0.0154]\n",
      " [-0.029  -0.0279  0.0208 -0.0216  0.    ]]\n"
     ]
    }
   ],
   "source": [
    "# print first 5 rows and columsn of W_est and round values to 4 decimal places and show as non-scientific notation\n",
    "np.set_printoptions(precision=4, suppress=True)\n",
    "print(W_est[:5, :5])"
   ]
  },
  {
   "cell_type": "code",
   "execution_count": 17,
   "metadata": {},
   "outputs": [
    {
     "data": {
      "image/png": "[encoded data removed]",
      "text/plain": [
       "<Figure size 2000x800 with 4 Axes>"
      ]
     },
     "metadata": {},
     "output_type": "display_data"
    }
   ],
   "source": [
    "# now show the adjacency matrix of the true graph and the estimated graph side by side\n",
    "plot_adjacency_matrices(B_true, B_est)"
   ]
  },
  {
   "cell_type": "code",
   "execution_count": 18,
   "metadata": {},
   "outputs": [
    {
     "name": "stdout",
     "output_type": "stream",
     "text": [
      "228\n",
      "197.0\n"
     ]
    }
   ],
   "source": [
    "print(np.sum(B_est))\n",
    "print(np.sum(B_true))"
   ]
  },
  {
   "cell_type": "code",
   "execution_count": 19,
   "metadata": {},
   "outputs": [
    {
     "data": {
      "image/png": "[encoded data removed]",
      "text/plain": [
       "<Figure size 800x300 with 4 Axes>"
      ]
     },
     "metadata": {},
     "output_type": "display_data"
    },
    {
     "name": "stdout",
     "output_type": "stream",
     "text": [
      "{'fdr': 0.1711, 'tpr': 0.9594, 'fpr': 0.0082, 'shd': 42, 'nnz': 228, 'precision': 0.8289, 'recall': 0.9594, 'F1': 0.8894, 'gscore': 0.7614}\n"
     ]
    },
    {
     "name": "stderr",
     "output_type": "stream",
     "text": [
      "DataFrame.applymap has been deprecated. Use DataFrame.map instead.\n",
      "DataFrame.applymap has been deprecated. Use DataFrame.map instead.\n",
      "DataFrame.applymap has been deprecated. Use DataFrame.map instead.\n"
     ]
    }
   ],
   "source": [
    "# plot est_dag and true_dag\n",
    "GraphDAG(B_est, B_true)\n",
    "# calculate accuracy\n",
    "met_pcax = MetricsDAG(B_est, B_true)\n",
    "print(met_pcax.metrics)"
   ]
  },
  {
   "cell_type": "code",
   "execution_count": 22,
   "metadata": {},
   "outputs": [
    {
     "ename": "AttributeError",
     "evalue": "'numpy.ndarray' object has no attribute 'node_map'",
     "output_type": "error",
     "traceback": [
      "\u001b[0;31m---------------------------------------------------------------------------\u001b[0m",
      "\u001b[0;31mAttributeError\u001b[0m                            Traceback (most recent call last)",
      "Cell \u001b[0;32mIn[22], line 2\u001b[0m\n\u001b[1;32m      1\u001b[0m \u001b[38;5;66;03m# causal learn SHD calculation\u001b[39;00m\n\u001b[0;32m----> 2\u001b[0m \u001b[38;5;28mprint\u001b[39m(\u001b[43mSHD_causallearn\u001b[49m\u001b[43m(\u001b[49m\u001b[43mB_true\u001b[49m\u001b[43m,\u001b[49m\u001b[43m \u001b[49m\u001b[43mB_est\u001b[49m\u001b[43m)\u001b[49m\u001b[38;5;241m.\u001b[39mget_shd())\n",
      "File \u001b[0;32m~/miniconda3/envs/pcax24/lib/python3.10/site-packages/causallearn/graph/SHD.py:20\u001b[0m, in \u001b[0;36mSHD.__init__\u001b[0;34m(self, truth, est)\u001b[0m\n\u001b[1;32m      9\u001b[0m \u001b[38;5;28;01mdef\u001b[39;00m \u001b[38;5;21m__init__\u001b[39m(\u001b[38;5;28mself\u001b[39m, truth: Graph, est: Graph):\n\u001b[1;32m     10\u001b[0m \u001b[38;5;250m    \u001b[39m\u001b[38;5;124;03m\"\"\"\u001b[39;00m\n\u001b[1;32m     11\u001b[0m \u001b[38;5;124;03m    Compute and store the Structural Hamming Distance (SHD) between two graphs.\u001b[39;00m\n\u001b[1;32m     12\u001b[0m \n\u001b[0;32m   (...)\u001b[0m\n\u001b[1;32m     18\u001b[0m \u001b[38;5;124;03m        Estimated graph.\u001b[39;00m\n\u001b[1;32m     19\u001b[0m \u001b[38;5;124;03m    \"\"\"\u001b[39;00m\n\u001b[0;32m---> 20\u001b[0m     truth_node_map \u001b[38;5;241m=\u001b[39m {node\u001b[38;5;241m.\u001b[39mget_name(): node_id \u001b[38;5;28;01mfor\u001b[39;00m node, node_id \u001b[38;5;129;01min\u001b[39;00m \u001b[43mtruth\u001b[49m\u001b[38;5;241;43m.\u001b[39;49m\u001b[43mnode_map\u001b[49m\u001b[38;5;241m.\u001b[39mitems()}\n\u001b[1;32m     21\u001b[0m     est_node_map \u001b[38;5;241m=\u001b[39m {node\u001b[38;5;241m.\u001b[39mget_name(): node_id \u001b[38;5;28;01mfor\u001b[39;00m node, node_id \u001b[38;5;129;01min\u001b[39;00m est\u001b[38;5;241m.\u001b[39mnode_map\u001b[38;5;241m.\u001b[39mitems()}\n\u001b[1;32m     22\u001b[0m     \u001b[38;5;28;01massert\u001b[39;00m \u001b[38;5;28mset\u001b[39m(truth_node_map\u001b[38;5;241m.\u001b[39mkeys()) \u001b[38;5;241m==\u001b[39m \u001b[38;5;28mset\u001b[39m(est_node_map\u001b[38;5;241m.\u001b[39mkeys()), \u001b[38;5;124m\"\u001b[39m\u001b[38;5;124mThe two graphs have different sets of node names.\u001b[39m\u001b[38;5;124m\"\u001b[39m\n",
      "\u001b[0;31mAttributeError\u001b[0m: 'numpy.ndarray' object has no attribute 'node_map'"
     ]
    }
   ],
   "source": [
    "# causal learn SHD calculation\n",
    "print(SHD_causallearn(B_true, B_est).get_shd())"
   ]
  },
  {
   "cell_type": "code",
   "execution_count": 40,
   "metadata": {},
   "outputs": [
    {
     "name": "stdout",
     "output_type": "stream",
     "text": [
      "[[ 0  1  1]\n",
      " [-1  0  0]\n",
      " [ 0  0  0]]\n",
      "3\n",
      "3\n",
      "{'fdr': 0.6667, 'tpr': 0.5, 'fpr': 2.0, 'shd': 2, 'nnz': 3, 'precision': 0.3333, 'recall': 0.5, 'F1': 0.4, 'gscore': 0.0}\n",
      "[[0. 0. 0. ... 0. 0. 0.]\n",
      " [0. 0. 0. ... 0. 0. 0.]\n",
      " [0. 0. 0. ... 0. 0. 0.]\n",
      " ...\n",
      " [0. 0. 0. ... 0. 0. 0.]\n",
      " [0. 0. 0. ... 0. 0. 0.]\n",
      " [0. 0. 0. ... 0. 0. 0.]]\n",
      "47.0\n",
      "47.0\n",
      "{'fdr': 0.0406, 'tpr': 0.8289, 'fpr': 0.0017, 'shd': 42, 'nnz': 197, 'precision': 0.9594, 'recall': 0.8289, 'F1': 0.8894, 'gscore': 0.7939}\n"
     ]
    },
    {
     "name": "stderr",
     "output_type": "stream",
     "text": [
      "DataFrame.applymap has been deprecated. Use DataFrame.map instead.\n",
      "DataFrame.applymap has been deprecated. Use DataFrame.map instead.\n",
      "DataFrame.applymap has been deprecated. Use DataFrame.map instead.\n",
      "DataFrame.applymap has been deprecated. Use DataFrame.map instead.\n",
      "DataFrame.applymap has been deprecated. Use DataFrame.map instead.\n",
      "DataFrame.applymap has been deprecated. Use DataFrame.map instead.\n"
     ]
    }
   ],
   "source": [
    "# create numpy array with values 1 to 9 in 3x3 shape manually\n",
    "A = np.array([[0, 1, 1], [0, 0, 1], [0, 0, 0]])\n",
    "B = np.array([[0, 0, 0], [1, 0, 1], [0, 0, 0]])\n",
    "D = A - B\n",
    "print(D)\n",
    "# compute the SHD between A and B\n",
    "print(SHD(A, B))\n",
    "print(np.sum(np.abs(D)))\n",
    "# gcastle SHD calculation\n",
    "print(MetricsDAG(A, B).metrics)\n",
    "\n",
    "# compute difference between B_true and B_est\n",
    "D_B = B_true - B_est\n",
    "print(D_B)\n",
    "# compute the SHD between B_true and B_est\n",
    "print(SHD(B_true, B_est))\n",
    "print(np.sum(np.abs(D_B)))\n",
    "# gcastle SHD calculation\n",
    "print(MetricsDAG(B_true, B_est).metrics)\n",
    "\n",
    "# The difference between the causal discovery toolbox and the gcastle SHD calculation\n",
    "# is that the causal discovery toolbox SHD calculation counts edge flips as 2 errors \n",
    "# while the gcastle SHD calculation counts edge flips as 1 error. This is why the\n",
    "# np.sum(np.abs(B_true - B_est)) is equal to the SHD calculated by the causal discovery toolbox.\n",
    "# Thus the SHD value from gcastle is always less or equal (<=) to the SHD value from the causal discovery toolbox.\n"
   ]
  },
  {
   "cell_type": "code",
   "execution_count": 47,
   "metadata": {},
   "outputs": [
    {
     "data": {
      "text/plain": [
       "0"
      ]
     },
     "execution_count": 47,
     "metadata": {},
     "output_type": "execute_result"
    }
   ],
   "source": [
    "np.sum(D.T-D)"
   ]
  },
  {
   "cell_type": "code",
   "execution_count": null,
   "metadata": {},
   "outputs": [],
   "source": [
    "from castle.algorithms import ICALiNGAM, DirectLiNGAM"
   ]
  },
  {
   "cell_type": "code",
   "execution_count": null,
   "metadata": {},
   "outputs": [],
   "source": [
    "directlingam = DirectLiNGAM()\n",
    "directlingam.learn(X)"
   ]
  },
  {
   "cell_type": "code",
   "execution_count": null,
   "metadata": {},
   "outputs": [],
   "source": [
    "icalingam = ICALiNGAM(max_iter=5000) # default max_iter=1000 does not converge\n",
    "icalingam.learn(X)"
   ]
  },
  {
   "cell_type": "code",
   "execution_count": null,
   "metadata": {},
   "outputs": [],
   "source": [
    "# convert X into a pandas dataframe\n",
    "import pandas as pd\n",
    "X_df = pd.DataFrame(X)"
   ]
  },
  {
   "cell_type": "code",
   "execution_count": null,
   "metadata": {},
   "outputs": [],
   "source": [
    "from cdt.causality.graph import PC\n",
    "pc = PC()\n",
    "pc.create_graph_from_data(X_df)"
   ]
  },
  {
   "cell_type": "code",
   "execution_count": null,
   "metadata": {},
   "outputs": [],
   "source": []
  },
  {
   "cell_type": "code",
   "execution_count": null,
   "metadata": {},
   "outputs": [],
   "source": []
  },
  {
   "cell_type": "code",
   "execution_count": null,
   "metadata": {},
   "outputs": [],
   "source": []
  },
  {
   "cell_type": "code",
   "execution_count": null,
   "metadata": {},
   "outputs": [],
   "source": []
  },
  {
   "cell_type": "code",
   "execution_count": null,
   "metadata": {},
   "outputs": [],
   "source": [
    "# benchmarks that don't work yet \n",
    "\n",
    "\n",
    "# benchmark models\n",
    "das = DAS()\n",
    "score = SCORE()\n",
    "cam = CAM()\n",
    "\n",
    "# convert X into a pandas dataframe\n",
    "import pandas as pd\n",
    "X_df = pd.DataFrame(X)\n",
    "# take only 10000 samples/rows from X\n",
    "#X_df = pd.DataFrame(X[:10000, :])\n",
    "\n",
    "context = make_context().variables(data=X_df).build()\n",
    "\n",
    "# cam.learn_graph(data_df=X_df, context=context)\n",
    "# score.learn_graph(data_df=X_df, context=context)\n",
    "# das.learn_graph(data_df=X_df, context=context)"
   ]
  },
  {
   "cell_type": "code",
   "execution_count": null,
   "metadata": {},
   "outputs": [],
   "source": []
  },
  {
   "cell_type": "code",
   "execution_count": null,
   "metadata": {},
   "outputs": [],
   "source": []
  },
  {
   "cell_type": "code",
   "execution_count": null,
   "metadata": {},
   "outputs": [],
   "source": [
    "########################################## MISC CODE #########################################################\n",
    "\n",
    "\n",
    "# v1: single vode, fast but gives NaNs\n",
    "\n",
    "class Complete_Graph(pxc.EnergyModule):\n",
    "    def __init__(self, input_dim: int, n_nodes: int, has_bias: bool = False) -> None:\n",
    "        super().__init__()\n",
    "\n",
    "        self.input_dim = px.static(input_dim)  # Ensure input_dim is static\n",
    "        self.n_nodes = px.static(n_nodes)  # Keep n_nodes as a static value\n",
    "        self.has_bias = has_bias\n",
    "\n",
    "        # Initialize a single linear layer for the weights and wrap it in a list\n",
    "        self.layers = [pxnn.Linear(n_nodes * input_dim, n_nodes * input_dim, bias=has_bias)]\n",
    "        \n",
    "        # Zero out the diagonal weights to avoid self-loops\n",
    "        weight_matrix = self.layers[0].nn.weight.get()\n",
    "        weight_matrix = weight_matrix.reshape(n_nodes, input_dim, n_nodes, input_dim)\n",
    "        for i in range(n_nodes):\n",
    "            weight_matrix = weight_matrix.at[i, :, i, :].set(jnp.zeros((input_dim, input_dim)))\n",
    "        self.layers[0].nn.weight.set(weight_matrix.reshape(n_nodes * input_dim, n_nodes * input_dim))\n",
    "\n",
    "        # Initialize vodes as a list containing a single matrix\n",
    "        self.vodes = [pxc.Vode((n_nodes, input_dim))]\n",
    "\n",
    "    def freeze_nodes(self, freeze=True):\n",
    "        self.vodes[0].h.frozen = freeze\n",
    "\n",
    "    def are_vodes_frozen(self):\n",
    "        \"\"\"Check if all vodes in the model are frozen.\"\"\"\n",
    "        return self.vodes[0].h.frozen\n",
    "    \n",
    "    def get_W(self):\n",
    "        \"\"\"This function returns the weighted adjacency matrix based on the linear layer in the model.\"\"\"\n",
    "        W = self.layers[0].nn.weight.get()  # Get the weight matrix, possibly as a different type\n",
    "        W = W.numpy()  # Convert to numpy array if necessary\n",
    "        W_T = W.T  # Transpose the matrix if needed\n",
    "        return W_T\n",
    "\n",
    "    \n",
    "    def __call__(self, x=None):\n",
    "        n_nodes = self.n_nodes.get()\n",
    "        input_dim = self.input_dim.get()\n",
    "        if x is not None:\n",
    "            # print the shape of x before reshaping when x is not None\n",
    "            print(\"The shape of x before reshaping when x is not None: \", x.shape)\n",
    "\n",
    "            # Initialize nodes with given data\n",
    "            reshaped_x = x.reshape(n_nodes, input_dim)\n",
    "\n",
    "            # print the shape of reshaped_x when x is not None\n",
    "            print(\"The shape of reshaped_x when x is not None: \", reshaped_x.shape)\n",
    "\n",
    "            self.vodes[0](reshaped_x)\n",
    "        else:\n",
    "            # Perform forward pass using stored values\n",
    "            #x_ = self.vodes[0].get('h').reshape(n_nodes * input_dim, 1)\n",
    "\n",
    "            x_ = self.vodes[0].get('h')\n",
    "            # print the shape of x_ when x is None before reshaping\n",
    "            print(\"The shape of x_ when x is None before reshaping: \", x_.shape)\n",
    "\n",
    "            #x_ = x_.reshape(n_nodes * input_dim, 1)\n",
    "            # print the shape of x_ when x is None after reshaping\n",
    "            #print(\"The shape of x_ when x is None after reshaping: \", x_.shape)\n",
    "\n",
    "            # Perform the matrix-matrix multiplication\n",
    "            #output = self.layers[0](x_).reshape(n_nodes, input_dim)\n",
    "            \n",
    "            output = self.layers[0](x_)\n",
    "            # print the shape of output before reshaping\n",
    "            print(\"The shape of output before reshaping: \", output.shape)\n",
    "            output = output.reshape(n_nodes, input_dim)\n",
    "            # print the shape of output after reshaping\n",
    "            print(\"The shape of output after reshaping: \", output.shape)\n",
    "\n",
    "            # Set the new values in vodes\n",
    "            self.vodes[0](output)\n",
    "\n",
    "        # Return the output directly\n",
    "        return self.vodes[0].get('h')\n",
    "    \n",
    "\n",
    "    # v2: multiple vodes\n",
    "class Complete_Graph(pxc.EnergyModule):\n",
    "    def __init__(self, input_dim: int, n_nodes: int, has_bias: bool = False) -> None:\n",
    "        super().__init__()\n",
    "\n",
    "        self.input_dim = px.static(input_dim)  # Ensure input_dim is static\n",
    "        self.n_nodes = px.static(n_nodes)  # Keep n_nodes as a static value\n",
    "        self.has_bias = has_bias\n",
    "\n",
    "        # Initialize a single linear layer for the weights and wrap it in a list\n",
    "        self.layers = [pxnn.Linear(n_nodes * input_dim, n_nodes * input_dim, bias=has_bias)]\n",
    "        \n",
    "        # Zero out the diagonal weights to avoid self-loops\n",
    "        weight_matrix = self.layers[0].nn.weight.get()\n",
    "        weight_matrix = weight_matrix.reshape(n_nodes, input_dim, n_nodes, input_dim)\n",
    "        for i in range(n_nodes):\n",
    "            weight_matrix = weight_matrix.at[i, :, i, :].set(jnp.zeros((input_dim, input_dim)))\n",
    "        self.layers[0].nn.weight.set(weight_matrix.reshape(n_nodes * input_dim, n_nodes * input_dim))\n",
    "\n",
    "        # Initialize individual vodes for each node\n",
    "        self.vodes = [pxc.Vode((input_dim,)) for _ in range(n_nodes)]\n",
    "\n",
    "    def freeze_nodes(self, freeze=True):\n",
    "        for vode in self.vodes:\n",
    "            vode.h.frozen = freeze\n",
    "\n",
    "    def are_vodes_frozen(self):\n",
    "        \"\"\"Check if all vodes in the model are frozen.\"\"\"\n",
    "        return all(vode.h.frozen for vode in self.vodes)\n",
    "    \n",
    "    def get_W(self):\n",
    "        \"\"\"This function returns the weighted adjacency matrix based on the linear layer in the model.\"\"\"\n",
    "        W = self.layers[0].nn.weight.get()\n",
    "        W_T = W.T\n",
    "        return W_T\n",
    "\n",
    "    def __call__(self, x=None):\n",
    "        n_nodes = self.n_nodes.get()\n",
    "        input_dim = self.input_dim.get()\n",
    "        if x is not None:\n",
    "            # Initialize nodes with given data\n",
    "            reshaped_x = x.reshape(n_nodes, input_dim)\n",
    "            \n",
    "            # this is the shape a vode's input when x is not None\n",
    "            print(\"The shape of reshaped_x[0] when x is not None is: \", reshaped_x[0].shape)\n",
    "\n",
    "            for i in range(n_nodes):\n",
    "                self.vodes[i](reshaped_x[i])\n",
    "\n",
    "        else:\n",
    "            x_ = jnp.vstack([vode.get('h') for vode in self.vodes])\n",
    "\n",
    "            # print the shape of x_ when x is None\n",
    "            print(\"The shape of x_ when x is None is: \", x_.shape)\n",
    "\n",
    "            # Perform the matrix-matrix multiplication\n",
    "            flattened_x = x_.reshape(n_nodes * input_dim, 1)\n",
    "\n",
    "            # print the shape of flattened_x when x is None\n",
    "            print(\"The shape of flattened_x when x is None is: \", flattened_x.shape)\n",
    "\n",
    "            output = self.layers[0](flattened_x)\n",
    "\n",
    "            # print the shape of output when x is None\n",
    "            print(\"The shape of output when x is None is: \", output.shape)\n",
    "\n",
    "            output = output.reshape(n_nodes, input_dim)\n",
    "\n",
    "            # print the shape of output after reshaping when x is None\n",
    "            print(\"The shape of output after reshaping when x is None is: \", output.shape)\n",
    "\n",
    "            # print the shape of a vodes input when x is not None\n",
    "            print(\"The shape of output[0] when x is None is: \", output[0].shape)\n",
    "\n",
    "            # Set the new values in vodes\n",
    "            for i in range(n_nodes):\n",
    "                self.vodes[i](output[i])\n",
    "\n",
    "        output = jnp.vstack([vode.get('h') for vode in self.vodes])\n",
    "\n",
    "        # print the shape of the output\n",
    "        print(\"The shape of the output is: \", output.shape)\n",
    "\n",
    "        return output"
   ]
  }
 ],
 "metadata": {
  "kernelspec": {
   "display_name": "pcax24",
   "language": "python",
   "name": "python3"
  },
  "language_info": {
   "codemirror_mode": {
    "name": "ipython",
    "version": 3
   },
   "file_extension": ".py",
   "mimetype": "text/x-python",
   "name": "python",
   "nbconvert_exporter": "python",
   "pygments_lexer": "ipython3",
   "version": "3.10.14"
  }
 },
 "nbformat": 4,
 "nbformat_minor": 2
}
