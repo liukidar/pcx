{
 "cells": [
  {
   "cell_type": "code",
   "execution_count": 1,
   "metadata": {},
   "outputs": [
    {
     "name": "stdout",
     "output_type": "stream",
     "text": [
      "MNIST max softmax values: [0.99983835 0.9999666  0.9977149  ... 0.9999995  0.9999633  0.96945083]\n",
      "KMNIST max softmax values: [0.9679183  0.76919377 0.79920596 ... 0.91362894 0.5792618  0.90153044]\n",
      "FMNIST max softmax values: [0.99945444 0.9753269  0.91486347 ... 0.8308811  0.9994799  0.82589376]\n",
      "EMNIST max softmax values: [0.5151212  0.8430155  0.7561936  ... 0.97716796 0.9876317  0.9514899 ]\n",
      "notMNIST max softmax values: [0.67722696 0.9477653  0.52510583 ... 0.7860869  0.9914704  0.8652807 ]\n",
      "MNIST X_test: [[-0.42421296 -0.42421296 -0.42421296 ... -0.42421296 -0.42421296\n",
      "  -0.42421296]\n",
      " [-0.42421296 -0.42421296 -0.42421296 ... -0.42421296 -0.42421296\n",
      "  -0.42421296]\n",
      " [-0.42421296 -0.42421296 -0.42421296 ... -0.42421296 -0.42421296\n",
      "  -0.42421296]\n",
      " ...\n",
      " [-0.42421296 -0.42421296 -0.42421296 ... -0.42421296 -0.42421296\n",
      "  -0.42421296]\n",
      " [-0.42421296 -0.42421296 -0.42421296 ... -0.42421296 -0.42421296\n",
      "  -0.42421296]\n",
      " [-0.42421296 -0.42421296 -0.42421296 ... -0.42421296 -0.42421296\n",
      "  -0.42421296]]\n"
     ]
    }
   ],
   "source": [
    "# your_script.py\n",
    "import os\n",
    "from helpers import DatasetProcessorData\n",
    "\n",
    "# Define the directory where the files are saved\n",
    "load_dir = './data/energy'\n",
    "\n",
    "# Load each processor's data\n",
    "mnist_data = DatasetProcessorData.load_data(os.path.join(load_dir, 'mnist_DP.pkl'))\n",
    "kmnist_data = DatasetProcessorData.load_data(os.path.join(load_dir, 'kmnist_DP.pkl'))\n",
    "fmnist_data = DatasetProcessorData.load_data(os.path.join(load_dir, 'fmnist_DP.pkl'))\n",
    "emnist_data = DatasetProcessorData.load_data(os.path.join(load_dir, 'emnist_DP.pkl'))\n",
    "notmnist_data = DatasetProcessorData.load_data(os.path.join(load_dir, 'notmnist_DP.pkl'))\n",
    "\n",
    "# Now you can access the results from the data objects\n",
    "print(f\"MNIST max softmax values: {mnist_data.max_softmax_values}\")\n",
    "print(f\"KMNIST max softmax values: {kmnist_data.max_softmax_values}\")\n",
    "print(f\"FMNIST max softmax values: {fmnist_data.max_softmax_values}\")\n",
    "print(f\"EMNIST max softmax values: {emnist_data.max_softmax_values}\")\n",
    "print(f\"notMNIST max softmax values: {notmnist_data.max_softmax_values}\")\n",
    "\n",
    "# Example: Print X_test for MNIST\n",
    "print(f\"MNIST X_test: {mnist_data.X_test_jax}\")"
   ]
  },
  {
   "cell_type": "code",
   "execution_count": 3,
   "metadata": {},
   "outputs": [
    {
     "name": "stdout",
     "output_type": "stream",
     "text": [
      "8000\n"
     ]
    }
   ],
   "source": [
    "print(len(mnist_data.max_softmax_values))"
   ]
  },
  {
   "cell_type": "code",
   "execution_count": null,
   "metadata": {},
   "outputs": [],
   "source": []
  }
 ],
 "metadata": {
  "kernelspec": {
   "display_name": "pcax24",
   "language": "python",
   "name": "python3"
  },
  "language_info": {
   "codemirror_mode": {
    "name": "ipython",
    "version": 3
   },
   "file_extension": ".py",
   "mimetype": "text/x-python",
   "name": "python",
   "nbconvert_exporter": "python",
   "pygments_lexer": "ipython3",
   "version": "3.10.14"
  }
 },
 "nbformat": 4,
 "nbformat_minor": 2
}
