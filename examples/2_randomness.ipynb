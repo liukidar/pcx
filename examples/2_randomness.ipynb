{
 "cells": [
  {
   "cell_type": "markdown",
   "metadata": {},
   "source": [
    "# Tutorial #2: Randomness in PCX\n",
    "\n",
    "This is a small notebook showing a couple of details on how randomness is implemented in PCX. JAX provides its own stateless random utilities on which we build to provide a simple interface: `pcx.RandomKeyGenerator`. By default, pcx offer a globally instantiated `pcx.RandomKeyGenerator`, `px.RKG`, which is used by default if no alternative is provided."
   ]
  },
  {
   "cell_type": "code",
   "execution_count": null,
   "metadata": {},
   "outputs": [],
   "source": [
    "import pcx as px\n",
    "import pcx.nn as pxnn\n",
    "import jax\n",
    "import jax.numpy as jnp\n",
    "\n",
    "# By default, px.RKG is initialised with the system time.\n",
    "# We set both the global and a custom rkg seed to 0 and show their usage.\n",
    "px.RKG.seed(0)\n",
    "custom_RKG = px.RandomKeyGenerator(0)\n",
    "layer_default = pxnn.Linear(8, 8, True) # by default uses px.RKG\n",
    "layer_custom = pxnn.Linear(8, 8, True, rkg=custom_RKG)\n",
    "\n",
    "assert jnp.all(layer_default.nn.weight == layer_custom.nn.weight), \"This doesn't fail since both RKGs are initialised with the seed 0.\"\n",
    "\n",
    "# Note that pcx functions accept a `pcx.RandomKeyGenerator`, while jax functions require a key,\n",
    "# which can be obtained as following:\n",
    "a_key = px.RKG()"
   ]
  },
  {
   "cell_type": "markdown",
   "metadata": {},
   "source": [
    "Being `pcax.RKG` globally accessible, it can also be accessed with pcax transformations. This, however, requires its state to be accordingly transformed as well. This happens by automatically adding it to a transformation keyword arguments and applying relevant transformations:\n",
    "- using `vmap` splits the state in `n` different states which are mapped over the vmapped dimension. At the end of the function, the vmapped states are discarded and only one is kept, becoming the new `pcax.RKG` state.\n",
    "\n",
    "If other behaviours are necessary, it is always possible to pass your own `pcax.RandomKeyGenerator` via keyword arguments and apply the desired transformations."
   ]
  },
  {
   "cell_type": "code",
   "execution_count": null,
   "metadata": {},
   "outputs": [],
   "source": [
    "import pcx.functional as pxf\n",
    "\n",
    "@pxf.jit()\n",
    "@pxf.vmap(in_axes=(0, None, None), out_axes=0)\n",
    "def vsum(a, min_val, max_val):\n",
    "    a = a + jax.random.uniform(px.RKG(), a.shape, minval=min_val, maxval=max_val)\n",
    "    \n",
    "    px.RKG.seed(0)\n",
    "    \n",
    "    return a\n",
    "\n",
    "a = jnp.ones((10, 1))\n",
    "\n",
    "a_1 = vsum(a, -1.0, 1.0)\n",
    "a_2 = vsum(a, -1.0, 1.0)\n",
    "\n",
    "assert jnp.any(a_1 != a_2), \"The two arrays should be different since vsum changes the state of the RKG.\"\n",
    "\n",
    "key = px.RKG.key.get()\n",
    "assert jnp.all(key == 0), \"The key should be 0, as set inside the vsum function\"\n",
    "\n",
    "print(\"All good!\")\n"
   ]
  },
  {
   "cell_type": "markdown",
   "metadata": {},
   "source": [
    "Note how the following uses the same key for all the values along the vmapped dimension, as we do not vmap the custom `pcax.RandomKeyGenerator`"
   ]
  },
  {
   "cell_type": "code",
   "execution_count": null,
   "metadata": {},
   "outputs": [],
   "source": [
    "@pxf.jit()\n",
    "@pxf.vmap({'rkg': None}, in_axes=(0, None, None), out_axes=0)\n",
    "def sum_custom(a, min_val, max_val, *, rkg):\n",
    "    return a + jax.random.uniform(rkg(), a.shape, minval=min_val, maxval=max_val)\n",
    "\n",
    "a = jnp.ones((10, 1))\n",
    "a_ = sum_custom(a, -1.0, 1.0, rkg=custom_RKG)\n",
    "\n",
    "print(\"All entries of a_ should be the same:\")\n",
    "print(a_)\n",
    "\n",
    "# Since we use a custom rkg and we do not batch over it, the key state is shared\n",
    "# over the vmap dimension and all the values produced are the same.\n",
    "#\n",
    "# NOTE: this is not something you would probably need normally, so think carefully\n",
    "# about it if you find yourself using it. For standard use cases, one should simply\n",
    "# rely on the provided default RKG.\n",
    "assert jnp.all(a_ == a_[0]), \"All the entries in a_ should be the same.\"\n",
    "\n",
    "print(\"All good!\")"
   ]
  },
  {
   "cell_type": "markdown",
   "metadata": {},
   "source": [
    "If we want to vmap a custom RKG, we need to explicitly split and merge the key state other the vmap dimension."
   ]
  },
  {
   "cell_type": "code",
   "execution_count": null,
   "metadata": {},
   "outputs": [],
   "source": [
    "@pxf.jit()\n",
    "@pxf.vmap({'rkg': 0}, in_axes=(0, None, None), out_axes=0)\n",
    "def vsum_custom(a, min_val, max_val, *, rkg):\n",
    "    return a + jax.random.uniform(rkg(), a.shape, minval=min_val, maxval=max_val)\n",
    "\n",
    "a = jnp.ones((10, 1))\n",
    "custom_RKG.key.set(custom_RKG.key.split(len(a)))\n",
    "a_ = vsum_custom(a, -1.0, 1.0, rkg=custom_RKG)\n",
    "custom_RKG.key.set(custom_RKG.key[0])\n",
    "\n",
    "print(\"All entries of a_ should now look random:\")\n",
    "print(a_)"
   ]
  }
 ],
 "metadata": {
  "kernelspec": {
   "display_name": "pcx",
   "language": "python",
   "name": "python3"
  },
  "language_info": {
   "codemirror_mode": {
    "name": "ipython",
    "version": 3
   },
   "file_extension": ".py",
   "mimetype": "text/x-python",
   "name": "python",
   "nbconvert_exporter": "python",
   "pygments_lexer": "ipython3",
   "version": "3.12.5"
  }
 },
 "nbformat": 4,
 "nbformat_minor": 2
}
