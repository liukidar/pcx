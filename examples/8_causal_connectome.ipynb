{
 "cells": [
  {
   "cell_type": "markdown",
   "metadata": {},
   "source": [
    "#### Here we run benchmark causal discovery algorithms on the big ER graph and connectome graph."
   ]
  },
  {
   "cell_type": "code",
   "execution_count": 1,
   "metadata": {},
   "outputs": [
    {
     "name": "stderr",
     "output_type": "stream",
     "text": [
      "2024-06-07 12:53:59,896 - /users-2/amine/miniconda3/envs/pcax24/lib/python3.10/site-packages/castle/backend/__init__.py[line:36] - INFO: You can use `os.environ['CASTLE_BACKEND'] = backend` to set the backend(`pytorch` or `mindspore`).\n",
      "2024-06-07 12:53:59,958 - /users-2/amine/miniconda3/envs/pcax24/lib/python3.10/site-packages/castle/algorithms/__init__.py[line:36] - INFO: You are using ``pytorch`` as the backend.\n"
     ]
    }
   ],
   "source": [
    "# 3rd party\n",
    "from castle.common import GraphDAG\n",
    "from castle.metrics import MetricsDAG\n",
    "from castle.datasets import DAG, IIDSimulation\n",
    "from castle.algorithms import Notears\n",
    "\n",
    "\n",
    "import numpy as np\n",
    "import os\n",
    "import seaborn as sns\n",
    "\n",
    "# own\n",
    "import causal_helpers\n",
    "from causal_helpers import simulate_dag, simulate_parameter, simulate_linear_sem, simulate_linear_sem_cyclic\n",
    "from causal_helpers import load_adjacency_matrix, set_random_seed"
   ]
  },
  {
   "cell_type": "code",
   "execution_count": 2,
   "metadata": {},
   "outputs": [
    {
     "name": "stdout",
     "output_type": "stream",
     "text": [
      "Adjacency matrix loaded from ./data/G_A_init_t_ordered_adj_matrix.npy\n",
      "Adjacency matrix loaded from ./data/G_A_init_t_ordered_dag_adj_matrix.npy\n",
      "Adjacency matrix loaded from ./data/ER_adj_matrix.npy\n",
      "Adjacency matrix loaded from ./data/ER_dag_adj_matrix.npy\n"
     ]
    }
   ],
   "source": [
    "# load the weighted adjacency matrices for ER and connectome\n",
    "\n",
    "# Specify the folder where the adjacency matrices were saved\n",
    "folder = './data/'\n",
    "\n",
    "# Example usage to load the saved adjacency matrices\n",
    "G_A_init_t_ordered_adj_matrix = load_adjacency_matrix(os.path.join(folder, 'G_A_init_t_ordered_adj_matrix.npy'))\n",
    "G_A_init_t_ordered_dag_adj_matrix = load_adjacency_matrix(os.path.join(folder, 'G_A_init_t_ordered_dag_adj_matrix.npy'))\n",
    "ER = load_adjacency_matrix(os.path.join(folder, 'ER_adj_matrix.npy'))\n",
    "ER_dag = load_adjacency_matrix(os.path.join(folder, 'ER_dag_adj_matrix.npy'))\n",
    "\n",
    "# Change name of the connectome adjacency matrix to C and C_dag\n",
    "C = G_A_init_t_ordered_adj_matrix\n",
    "C_dag = G_A_init_t_ordered_dag_adj_matrix"
   ]
  },
  {
   "cell_type": "code",
   "execution_count": 3,
   "metadata": {},
   "outputs": [
    {
     "name": "stdout",
     "output_type": "stream",
     "text": [
      "C is DAG: False\n",
      "C_dag is DAG: True\n",
      "ER is DAG: False\n",
      "ER_dag is DAG: True\n"
     ]
    }
   ],
   "source": [
    "# now print the graph name and whether it is a DAG using helper function e.g.: causal_helpers.is_dag(C))\n",
    "print('C is DAG:', causal_helpers.is_dag(C))\n",
    "print('C_dag is DAG:', causal_helpers.is_dag(C_dag))\n",
    "print('ER is DAG:', causal_helpers.is_dag(ER))\n",
    "print('ER_dag is DAG:', causal_helpers.is_dag(ER_dag))"
   ]
  },
  {
   "cell_type": "code",
   "execution_count": 4,
   "metadata": {},
   "outputs": [
    {
     "data": {
      "text/plain": [
       "'\\n# now do the same for the cyclic graphs C and ER\\n# ER\\nER_cyclic_w = simulate_parameter(ER)\\nX_ER_cyclic = simulate_linear_sem_cyclic(ER_cyclic_w, n, sem_type)\\n# C\\nC_cyclic_w = simulate_parameter(C)\\nX_C_cyclic = simulate_linear_sem_cyclic(C_cyclic_w, n, sem_type)\\n'"
      ]
     },
     "execution_count": 4,
     "metadata": {},
     "output_type": "execute_result"
    }
   ],
   "source": [
    "# now set seed and create weighted adjacency matrix for ER and C\n",
    "set_random_seed(0)\n",
    "n = 1000\n",
    "sem_type = \"gauss\"\n",
    "# ER_dag\n",
    "ER_w = simulate_parameter(ER_dag)\n",
    "X_ER = simulate_linear_sem(ER_w, n, sem_type)\n",
    "# C_dag\n",
    "C_w = simulate_parameter(C_dag)\n",
    "X_C = simulate_linear_sem(C_w, n, sem_type)\n",
    "\n",
    "\"\"\"\n",
    "# now do the same for the cyclic graphs C and ER\n",
    "# ER\n",
    "ER_cyclic_w = simulate_parameter(ER)\n",
    "X_ER_cyclic = simulate_linear_sem_cyclic(ER_cyclic_w, n, sem_type)\n",
    "# C\n",
    "C_cyclic_w = simulate_parameter(C)\n",
    "X_C_cyclic = simulate_linear_sem_cyclic(C_cyclic_w, n, sem_type)\n",
    "\"\"\""
   ]
  },
  {
   "cell_type": "code",
   "execution_count": 7,
   "metadata": {},
   "outputs": [
    {
     "name": "stderr",
     "output_type": "stream",
     "text": [
      "2024-06-07 12:55:04,142 - /users-2/amine/miniconda3/envs/pcax24/lib/python3.10/site-packages/castle/datasets/simulator.py[line:270] - INFO: Finished synthetic dataset\n",
      "2024-06-07 12:55:04,152 - /users-2/amine/miniconda3/envs/pcax24/lib/python3.10/site-packages/castle/datasets/simulator.py[line:270] - INFO: Finished synthetic dataset\n"
     ]
    }
   ],
   "source": [
    "# simulate data for notears\n",
    "dataset = IIDSimulation(W=ER_w, n=1000, method='linear', sem_type='gauss')\n",
    "true_dag, X = dataset.B, dataset.X\n",
    "\n",
    "# for debugging notears\n",
    "# create simple data using simulate_dag method from causal_helpers with expected number of edges (s0) and number of nodes (d)\n",
    "B_true = simulate_dag(d=50, s0=100, graph_type='ER')\n",
    "W_true = simulate_parameter(B_true)\n",
    "\n",
    "# NOTE: you may not write positional arguments after keyword arguments. \n",
    "# That is, the values that you are passing positionally have to come first!\n",
    "\n",
    "# create a dataset using the simulated data\n",
    "dataset = IIDSimulation(W=W_true, n=1000, method='linear', sem_type='gauss')\n",
    "true_dag, X = dataset.B, dataset.X"
   ]
  },
  {
   "cell_type": "code",
   "execution_count": 8,
   "metadata": {},
   "outputs": [
    {
     "name": "stderr",
     "output_type": "stream",
     "text": [
      "2024-06-07 12:55:05,463 - /users-2/amine/miniconda3/envs/pcax24/lib/python3.10/site-packages/castle/algorithms/gradient/notears/linear.py[line:195] - INFO: [start]: n=1000, d=50, iter_=100, h_=1e-08, rho_=1e+16\n",
      "2024-06-07 12:55:17,678 - /users-2/amine/miniconda3/envs/pcax24/lib/python3.10/site-packages/castle/algorithms/gradient/notears/linear.py[line:206] - INFO: [iter 0] h=1.326e+00, loss=21980.199, rho=1.0e+00\n",
      "2024-06-07 12:55:23,450 - /users-2/amine/miniconda3/envs/pcax24/lib/python3.10/site-packages/castle/algorithms/gradient/notears/linear.py[line:206] - INFO: [iter 1] h=8.995e-01, loss=26.272, rho=1.0e+00\n",
      "2024-06-07 12:55:33,488 - /users-2/amine/miniconda3/envs/pcax24/lib/python3.10/site-packages/castle/algorithms/gradient/notears/linear.py[line:206] - INFO: [iter 1] h=4.130e-01, loss=34.180, rho=1.0e+01\n",
      "2024-06-07 12:55:37,282 - /users-2/amine/miniconda3/envs/pcax24/lib/python3.10/site-packages/castle/algorithms/gradient/notears/linear.py[line:206] - INFO: [iter 1] h=1.555e-01, loss=113.262, rho=1.0e+02\n",
      "2024-06-07 12:55:44,612 - /users-2/amine/miniconda3/envs/pcax24/lib/python3.10/site-packages/castle/algorithms/gradient/notears/linear.py[line:206] - INFO: [iter 2] h=7.691e-02, loss=32.428, rho=1.0e+02\n",
      "2024-06-07 12:55:58,393 - /users-2/amine/miniconda3/envs/pcax24/lib/python3.10/site-packages/castle/algorithms/gradient/notears/linear.py[line:206] - INFO: [iter 2] h=3.127e-02, loss=43.308, rho=1.0e+03\n",
      "2024-06-07 12:56:02,729 - /users-2/amine/miniconda3/envs/pcax24/lib/python3.10/site-packages/castle/algorithms/gradient/notears/linear.py[line:206] - INFO: [iter 3] h=2.028e-02, loss=32.931, rho=1.0e+03\n"
     ]
    }
   ],
   "source": [
    "# notears learn\n",
    "nt = Notears()\n",
    "nt.learn(X)\n",
    "\n",
    "# plot est_dag and true_dag\n",
    "GraphDAG(nt.causal_matrix, true_dag)\n",
    "\n",
    "# calculate accuracy\n",
    "met = MetricsDAG(nt.causal_matrix, true_dag)\n",
    "print(met.metrics)"
   ]
  },
  {
   "cell_type": "code",
   "execution_count": null,
   "metadata": {},
   "outputs": [],
   "source": [
    "# simulate data for notears\n",
    "dataset = IIDSimulation(W=G_A_init_t_ordered_dag_adj_matrix, n=2000, method='linear', sem_type='gauss')\n",
    "true_dag, X = dataset.B, dataset.X\n",
    "\n",
    "# notears learn\n",
    "nt = Notears()\n",
    "nt.learn(X)\n",
    "\n",
    "# plot est_dag and true_dag\n",
    "GraphDAG(nt.causal_matrix, true_dag)\n",
    "\n",
    "# calculate accuracy\n",
    "met = MetricsDAG(nt.causal_matrix, true_dag)\n",
    "print(met.metrics)"
   ]
  },
  {
   "cell_type": "code",
   "execution_count": null,
   "metadata": {},
   "outputs": [],
   "source": [
    "# show unique values in the dag adjacency matrices\n",
    "print(\"The unique values in the ER adjacency matrix are: \", np.unique(ER))\n",
    "print()\n",
    "print(\"The unique values in the ER DAG adjacency matrix are: \", np.unique(ER_dag))"
   ]
  },
  {
   "cell_type": "code",
   "execution_count": null,
   "metadata": {},
   "outputs": [],
   "source": [
    "import numpy as np\n",
    "import networkx as nx\n",
    "import matplotlib.pyplot as plt\n",
    "\n",
    "def adjacency_matrix_to_graph(adj_matrix):\n",
    "    # Convert the adjacency matrix to a NetworkX graph\n",
    "    G = nx.from_numpy_array(adj_matrix, create_using=nx.DiGraph)\n",
    "    return G\n",
    "\n",
    "def inspect_graph_properties(G):\n",
    "    # Number of nodes and edges\n",
    "    num_nodes = G.number_of_nodes()\n",
    "    num_edges = G.number_of_edges()\n",
    "    \n",
    "    # Average degree\n",
    "    avg_degree = sum(dict(G.degree()).values()) / num_nodes\n",
    "    \n",
    "    # Degree distribution\n",
    "    degrees = [d for n, d in G.degree()]\n",
    "    in_degrees = [d for n, d in G.in_degree()]\n",
    "    out_degrees = [d for n, d in G.out_degree()]\n",
    "    \n",
    "    # Check if the graph is a DAG\n",
    "    is_dag = nx.is_directed_acyclic_graph(G)\n",
    "    \n",
    "    # Calculate the density of the graph\n",
    "    density = nx.density(G)\n",
    "    \n",
    "    # Calculate the clustering coefficient\n",
    "    \"\"\"\n",
    "    The clustering coefficient C(v) measures the local density of a node v's neighborhood by \n",
    "    comparing the actual number of edges among the neighbors of v to the maximum possible \n",
    "    number of edges (k_v*(k_v-1)) for a node with degree k_v in an undirected graph.\n",
    "    In that sense C(v) is a measure of the cliquishness of the neighborhood of node v.\n",
    "    For C(v) close to 0, the neighborhood of v is a sparse, disconnected set of nodes.\n",
    "    For C(v) close to 1, the neighborhood of v is a clique of size k_v (i.e., a complete graph).\n",
    "    \"\"\"\n",
    "    clustering_coefficient = nx.average_clustering(G.to_undirected())\n",
    "    \n",
    "    # Print properties\n",
    "    print(f\"Number of nodes: {num_nodes}\")\n",
    "    print(f\"Number of edges: {num_edges}\")\n",
    "    print(f\"Average degree: {avg_degree:.2f}\")\n",
    "    print(f\"Is DAG: {is_dag}\")\n",
    "    print(f\"Density: {density:.4f}\")\n",
    "    print(f\"Average clustering coefficient: {clustering_coefficient:.4f}\")\n",
    "    \n",
    "    # Plot degree distributions\n",
    "    plt.figure(figsize=(12, 6))\n",
    "    \n",
    "    plt.subplot(1, 3, 1)\n",
    "    plt.hist(degrees, bins=30, color='skyblue', edgecolor='k', alpha=0.7)\n",
    "    plt.xlabel('Degree', fontsize=14)\n",
    "    plt.ylabel('Frequency', fontsize=14)\n",
    "    plt.title('Degree Distribution', fontsize=16)\n",
    "    plt.grid(True)\n",
    "    \n",
    "    plt.subplot(1, 3, 2)\n",
    "    plt.hist(in_degrees, bins=30, color='lightcoral', edgecolor='k', alpha=0.7)\n",
    "    plt.xlabel('In-degree', fontsize=14)\n",
    "    plt.ylabel('Frequency', fontsize=14)\n",
    "    plt.title('In-degree Distribution', fontsize=16)\n",
    "    plt.grid(True)\n",
    "    \n",
    "    plt.subplot(1, 3, 3)\n",
    "    plt.hist(out_degrees, bins=30, color='lightgreen', edgecolor='k', alpha=0.7)\n",
    "    plt.xlabel('Out-degree', fontsize=14)\n",
    "    plt.ylabel('Frequency', fontsize=14)\n",
    "    plt.title('Out-degree Distribution', fontsize=16)\n",
    "    plt.grid(True)\n",
    "    \n",
    "    plt.tight_layout()\n",
    "    plt.show()\n",
    "\n",
    "# Convert the adjacency matrices of ER_dag_adj_matrix and and G_A_init_t_ordered_dag_adj_matrix to graphs\n",
    "ER_dag_graph = adjacency_matrix_to_graph(ER_dag)\n",
    "G_A_init_t_ordered_dag_graph = adjacency_matrix_to_graph(G_A_init_t_ordered_dag_adj_matrix)\n",
    "\n",
    "# Inspect properties of the graphs\n",
    "print(\"Properties of ER DAG graph:\")\n",
    "inspect_graph_properties(ER_dag_graph)\n",
    "print()\n",
    "print(\"Properties of G_A_init_t_ordered DAG graph:\")\n",
    "inspect_graph_properties(G_A_init_t_ordered_dag_graph)"
   ]
  },
  {
   "cell_type": "code",
   "execution_count": null,
   "metadata": {},
   "outputs": [],
   "source": [
    "# Convert the adjacency matrices of ER and G_A_init_t_ordered_adj_matrix to graphs\n",
    "ER_graph = adjacency_matrix_to_graph(ER)\n",
    "G_A_init_t_ordered_graph = adjacency_matrix_to_graph(G_A_init_t_ordered_adj_matrix)\n",
    "\n",
    "# Inspect properties of the graphs\n",
    "print(\"Properties of ER graph:\")\n",
    "inspect_graph_properties(ER_graph)\n",
    "print()\n",
    "print(\"Properties of G_A_init_t_ordered graph:\")\n",
    "inspect_graph_properties(G_A_init_t_ordered_graph)"
   ]
  },
  {
   "cell_type": "code",
   "execution_count": null,
   "metadata": {},
   "outputs": [],
   "source": [
    "# show unique values in ER_dag and G_A_init_t_ordered_dag_adj_matrix\n",
    "print(\"Unique values in ER_dag:\", np.unique(ER_dag))\n",
    "print()\n",
    "print(\"Unique values in G_A_init_t_ordered_dag_adj_matrix:\", np.unique(G_A_init_t_ordered_dag_adj_matrix))\n",
    "print()\n",
    "# now ER and G_A_init_t_ordered_adj_matrix\n",
    "print(\"Unique values in ER:\", np.unique(ER))\n",
    "print()\n",
    "print(\"Unique values in G_A_init_t_ordered_adj_matrix:\", np.unique(G_A_init_t_ordered_adj_matrix))"
   ]
  },
  {
   "cell_type": "code",
   "execution_count": null,
   "metadata": {},
   "outputs": [],
   "source": [
    "def plot_adjacency_matrix(adj_matrix, title=\"Adjacency Matrix\"):\n",
    "    plt.figure(figsize=(10, 8))\n",
    "    sns.heatmap(adj_matrix, cmap='viridis', cbar=True)\n",
    "    plt.title(title)\n",
    "    plt.xlabel('Node')\n",
    "    plt.ylabel('Node')\n",
    "    plt.show()"
   ]
  },
  {
   "cell_type": "code",
   "execution_count": null,
   "metadata": {},
   "outputs": [],
   "source": [
    "# Example usage\n",
    "folder = './data/'\n",
    "G_A_init_t_ordered_adj_matrix_binary = np.load(os.path.join(folder, 'G_A_init_t_ordered_adj_matrix_binary.npy'))\n",
    "G_A_init_t_ordered_dag_adj_matrix_binary = np.load(os.path.join(folder, 'G_A_init_t_ordered_dag_adj_matrix_binary.npy'))\n",
    "\n",
    "# show unique values in G_A_init_t_ordered_adj_matrix_binary and G_A_init_t_ordered_dag_adj_matrix_binary\n",
    "print(\"Unique values in G_A_init_t_ordered_adj_matrix_binary:\", np.unique(G_A_init_t_ordered_adj_matrix_binary))\n",
    "print()\n",
    "print(\"Unique values in G_A_init_t_ordered_dag_adj_matrix_binary:\", np.unique(G_A_init_t_ordered_dag_adj_matrix_binary))"
   ]
  },
  {
   "cell_type": "code",
   "execution_count": null,
   "metadata": {},
   "outputs": [],
   "source": [
    "plot_adjacency_matrix(G_A_init_t_ordered_adj_matrix_binary, title=\"G_A_init_t_ordered Binary Adjacency Matrix\")\n",
    "print()\n",
    "plot_adjacency_matrix(G_A_init_t_ordered_dag_adj_matrix_binary, title=\"G_A_init_t_ordered DAG Binary Adjacency Matrix\")"
   ]
  },
  {
   "cell_type": "code",
   "execution_count": null,
   "metadata": {},
   "outputs": [],
   "source": [
    "# now load the binary upper triangular DAG adjacency matrices for ER and connectome: ER_dag_upper_triangular_binary and G_A_init_t_ordered_dag_upper_triangular_binary\n",
    "ER_dag_upper_triangular_binary = np.load(os.path.join(folder, 'ER_dag_upper_triangular_binary.npy'))\n",
    "G_A_init_t_ordered_dag_upper_triangular_binary = np.load(os.path.join(folder, 'G_A_init_t_ordered_dag_upper_triangular_binary.npy'))"
   ]
  },
  {
   "cell_type": "code",
   "execution_count": null,
   "metadata": {},
   "outputs": [],
   "source": [
    "# now plot the permuted DAG adjacency matrices of G_A_init_t_ordered_dag_upper_triangular and ER_dag_upper_triangular\n",
    "plot_adjacency_matrix(G_A_init_t_ordered_dag_upper_triangular_binary, title=\"G_A_init_t_ordered DAG Upper Triangular Adjacency Matrix\")\n",
    "print()\n",
    "plot_adjacency_matrix(ER_dag_upper_triangular_binary, title=\"ER DAG Upper Triangular Adjacency Matrix\")"
   ]
  },
  {
   "cell_type": "code",
   "execution_count": null,
   "metadata": {},
   "outputs": [],
   "source": []
  }
 ],
 "metadata": {
  "kernelspec": {
   "display_name": "pcax24",
   "language": "python",
   "name": "python3"
  },
  "language_info": {
   "codemirror_mode": {
    "name": "ipython",
    "version": 3
   },
   "file_extension": ".py",
   "mimetype": "text/x-python",
   "name": "python",
   "nbconvert_exporter": "python",
   "pygments_lexer": "ipython3",
   "version": "3.10.14"
  }
 },
 "nbformat": 4,
 "nbformat_minor": 2
}
