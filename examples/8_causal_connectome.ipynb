{
 "cells": [
  {
   "cell_type": "markdown",
   "metadata": {},
   "source": [
    "#### Here we run benchmark causal discovery algorithms on the big ER graph and connectome graph."
   ]
  },
  {
   "cell_type": "code",
   "execution_count": null,
   "metadata": {},
   "outputs": [],
   "source": [
    "# 3rd party\n",
    "import numpy as np\n",
    "import os\n",
    "import matplotlib.pyplot as plt\n",
    "import seaborn as sns\n",
    "\n",
    "os.environ[\"CASTLE_BACKEND\"] = \"pytorch\"\n",
    "\n",
    "# castle\n",
    "from castle.common import GraphDAG\n",
    "from castle.metrics import MetricsDAG\n",
    "from castle.datasets import DAG, IIDSimulation\n",
    "from castle.algorithms import Notears, NotearsNonlinear\n",
    "\n",
    "# own\n",
    "import causal_helpers\n",
    "from causal_helpers import simulate_dag, simulate_parameter, simulate_linear_sem, simulate_linear_sem_cyclic\n",
    "from causal_helpers import load_adjacency_matrix, set_random_seed, plot_adjacency_matrix"
   ]
  },
  {
   "cell_type": "code",
   "execution_count": null,
   "metadata": {},
   "outputs": [],
   "source": [
    "# load the weighted adjacency matrices for ER and connectome\n",
    "\n",
    "# Specify the folder where the adjacency matrices were saved\n",
    "folder = './data/'\n",
    "\n",
    "# Example usage to load the saved adjacency matrices\n",
    "G_A_init_t_ordered_adj_matrix = load_adjacency_matrix(os.path.join(folder, 'G_A_init_t_ordered_adj_matrix.npy'))\n",
    "G_A_init_t_ordered_dag_adj_matrix = load_adjacency_matrix(os.path.join(folder, 'G_A_init_t_ordered_dag_adj_matrix.npy'))\n",
    "ER = load_adjacency_matrix(os.path.join(folder, 'ER_adj_matrix.npy'))\n",
    "ER_dag = load_adjacency_matrix(os.path.join(folder, 'ER_dag_adj_matrix.npy'))\n",
    "\n",
    "# Change name of the connectome adjacency matrix to C and C_dag\n",
    "C = G_A_init_t_ordered_adj_matrix\n",
    "C_dag = G_A_init_t_ordered_dag_adj_matrix"
   ]
  },
  {
   "cell_type": "code",
   "execution_count": null,
   "metadata": {},
   "outputs": [],
   "source": [
    "# now print the graph name and whether it is a DAG using helper function e.g.: causal_helpers.is_dag(C))\n",
    "print('C is DAG:', causal_helpers.is_dag(C))\n",
    "print('C_dag is DAG:', causal_helpers.is_dag(C_dag))\n",
    "print('ER is DAG:', causal_helpers.is_dag(ER))\n",
    "print('ER_dag is DAG:', causal_helpers.is_dag(ER_dag))"
   ]
  },
  {
   "cell_type": "code",
   "execution_count": null,
   "metadata": {},
   "outputs": [],
   "source": [
    "# now set seed and create weighted adjacency matrix for ER and C\n",
    "set_random_seed(0)\n",
    "n = 1000\n",
    "sem_type = \"gauss\"\n",
    "# ER_dag\n",
    "ER_w = simulate_parameter(ER_dag)\n",
    "X_ER = simulate_linear_sem(ER_w, n, sem_type)\n",
    "# C_dag\n",
    "C_w = simulate_parameter(C_dag)\n",
    "X_C = simulate_linear_sem(C_w, n, sem_type)\n",
    "\n",
    "\"\"\"\n",
    "# now do the same for the cyclic graphs C and ER\n",
    "# ER\n",
    "ER_cyclic_w = simulate_parameter(ER)\n",
    "X_ER_cyclic = simulate_linear_sem_cyclic(ER_cyclic_w, n, sem_type)\n",
    "# C\n",
    "C_cyclic_w = simulate_parameter(C)\n",
    "X_C_cyclic = simulate_linear_sem_cyclic(C_cyclic_w, n, sem_type)\n",
    "\"\"\""
   ]
  },
  {
   "cell_type": "code",
   "execution_count": null,
   "metadata": {},
   "outputs": [],
   "source": [
    "# simulate data for notears\n",
    "dataset = IIDSimulation(W=ER_w, n=1000, method='linear', sem_type='gauss')\n",
    "true_dag, X = dataset.B, dataset.X\n",
    "\n",
    "# for debugging notears\n",
    "B_true = simulate_dag(d=20, s0=40, graph_type='ER')\n",
    "# create simple data using simulate_dag method from causal_helpers with expected number of edges (s0) and number of nodes (d)\n",
    "#B_true = simulate_dag(d=100, s0=199, graph_type='ER') # we use p≈0.040226 for the connectome-based ER_dag graph. This means that the expected number of edges is 0.040226 * d * (d-1) / 2\n",
    "# examples: d=50 -> s0=49 (works), d=100 -> s0=199, d=200 -> s0=800\n",
    "W_true = simulate_parameter(B_true)\n",
    "\n",
    "# NOTE: you may not write positional arguments after keyword arguments. \n",
    "# That is, the values that you are passing positionally have to come first!\n",
    "\n",
    "# create a dataset using the simulated data\n",
    "# NOTE: NOTEARS paper uses n=1000 for graph with d=20.\n",
    "# NOTE: d... number of nodes, p=d^2... number of parameters, n... number of samples. Then: comparing p1=d1^2 vs p2=d2^2 we have that: n1/p1 must be equal to n2/p2\n",
    "# Thus we have n2 = n1 * p2 / p1. For the case of d2=100 we have that n2 = (n1*p2)/p1 = 1000*(100^2)/(20^2) = 25000 \n",
    "# we should expect to use that many samples actually to be able to learn the graph in a comparable way.\n",
    "dataset = IIDSimulation(W=W_true, n=5000, method='linear', sem_type='gauss')\n",
    "true_dag, X = dataset.B, dataset.X"
   ]
  },
  {
   "cell_type": "code",
   "execution_count": null,
   "metadata": {},
   "outputs": [],
   "source": [
    "# plot the adjacency matrix of ER and B_true using plot_adjacency_matrix\n",
    "plot_adjacency_matrix(ER, 'ER')\n",
    "print()\n",
    "plot_adjacency_matrix(B_true, 'B_true')"
   ]
  },
  {
   "cell_type": "code",
   "execution_count": null,
   "metadata": {},
   "outputs": [],
   "source": [
    "# notears learn\n",
    "nt_lin = Notears()\n",
    "nt_lin.learn(X)\n",
    "\n",
    "# plot est_dag and true_dag\n",
    "GraphDAG(nt_lin.causal_matrix, true_dag)\n",
    "\n",
    "# calculate accuracy\n",
    "met_lin = MetricsDAG(nt_lin.causal_matrix, true_dag)\n",
    "print(met_lin.metrics)"
   ]
  },
  {
   "cell_type": "code",
   "execution_count": 8,
   "metadata": {},
   "outputs": [],
   "source": [
    "# notears nonlinear learn (for this linear data)\n",
    "nt = NotearsNonlinear(model_type='mlp', hidden_layers=(2, 1), device_type='gpu', device_ids='0, 1') # I changed the MLP model source code, now this is an MLP w/o nonlinearity and single hidden layer of size 1\n",
    "# essentially, this is a linear model and should be equivalent to Notears (which is a linear model)\n",
    "nt.learn(X)\n",
    "\n",
    "# plot est_dag and true_dag\n",
    "GraphDAG(nt.causal_matrix, true_dag)\n",
    "\n",
    "# calculate accuracy\n",
    "met = MetricsDAG(nt.causal_matrix, true_dag)\n",
    "print(met.metrics)"
   ]
  },
  {
   "cell_type": "code",
   "execution_count": null,
   "metadata": {},
   "outputs": [],
   "source": []
  },
  {
   "cell_type": "code",
   "execution_count": null,
   "metadata": {},
   "outputs": [],
   "source": [
    "# simulate data for notears\n",
    "dataset = IIDSimulation(W=G_A_init_t_ordered_dag_adj_matrix, n=2000, method='linear', sem_type='gauss')\n",
    "true_dag, X = dataset.B, dataset.X\n",
    "\n",
    "# notears learn\n",
    "nt = Notears()\n",
    "nt.learn(X)\n",
    "\n",
    "# plot est_dag and true_dag\n",
    "GraphDAG(nt.causal_matrix, true_dag)\n",
    "\n",
    "# calculate accuracy\n",
    "met = MetricsDAG(nt.causal_matrix, true_dag)\n",
    "print(met.metrics)"
   ]
  },
  {
   "cell_type": "code",
   "execution_count": null,
   "metadata": {},
   "outputs": [],
   "source": [
    "# show unique values in the dag adjacency matrices\n",
    "print(\"The unique values in the ER adjacency matrix are: \", np.unique(ER))\n",
    "print()\n",
    "print(\"The unique values in the ER DAG adjacency matrix are: \", np.unique(ER_dag))"
   ]
  },
  {
   "cell_type": "code",
   "execution_count": null,
   "metadata": {},
   "outputs": [],
   "source": [
    "import numpy as np\n",
    "import networkx as nx\n",
    "import matplotlib.pyplot as plt\n",
    "\n",
    "def adjacency_matrix_to_graph(adj_matrix):\n",
    "    # Convert the adjacency matrix to a NetworkX graph\n",
    "    G = nx.from_numpy_array(adj_matrix, create_using=nx.DiGraph)\n",
    "    return G\n",
    "\n",
    "def inspect_graph_properties(G):\n",
    "    # Number of nodes and edges\n",
    "    num_nodes = G.number_of_nodes()\n",
    "    num_edges = G.number_of_edges()\n",
    "    \n",
    "    # Average degree\n",
    "    avg_degree = sum(dict(G.degree()).values()) / num_nodes\n",
    "    \n",
    "    # Degree distribution\n",
    "    degrees = [d for n, d in G.degree()]\n",
    "    in_degrees = [d for n, d in G.in_degree()]\n",
    "    out_degrees = [d for n, d in G.out_degree()]\n",
    "    \n",
    "    # Check if the graph is a DAG\n",
    "    is_dag = nx.is_directed_acyclic_graph(G)\n",
    "    \n",
    "    # Calculate the density of the graph\n",
    "    density = nx.density(G)\n",
    "    \n",
    "    # Calculate the clustering coefficient\n",
    "    \"\"\"\n",
    "    The clustering coefficient C(v) measures the local density of a node v's neighborhood by \n",
    "    comparing the actual number of edges among the neighbors of v to the maximum possible \n",
    "    number of edges (k_v*(k_v-1)) for a node with degree k_v in an undirected graph.\n",
    "    In that sense C(v) is a measure of the cliquishness of the neighborhood of node v.\n",
    "    For C(v) close to 0, the neighborhood of v is a sparse, disconnected set of nodes.\n",
    "    For C(v) close to 1, the neighborhood of v is a clique of size k_v (i.e., a complete graph).\n",
    "    \"\"\"\n",
    "    clustering_coefficient = nx.average_clustering(G.to_undirected())\n",
    "    \n",
    "    # Print properties\n",
    "    print(f\"Number of nodes: {num_nodes}\")\n",
    "    print(f\"Number of edges: {num_edges}\")\n",
    "    print(f\"Average degree: {avg_degree:.2f}\")\n",
    "    print(f\"Is DAG: {is_dag}\")\n",
    "    print(f\"Density: {density:.4f}\")\n",
    "    print(f\"Average clustering coefficient: {clustering_coefficient:.4f}\")\n",
    "    \n",
    "    # Plot degree distributions\n",
    "    plt.figure(figsize=(12, 6))\n",
    "    \n",
    "    plt.subplot(1, 3, 1)\n",
    "    plt.hist(degrees, bins=30, color='skyblue', edgecolor='k', alpha=0.7)\n",
    "    plt.xlabel('Degree', fontsize=14)\n",
    "    plt.ylabel('Frequency', fontsize=14)\n",
    "    plt.title('Degree Distribution', fontsize=16)\n",
    "    plt.grid(True)\n",
    "    \n",
    "    plt.subplot(1, 3, 2)\n",
    "    plt.hist(in_degrees, bins=30, color='lightcoral', edgecolor='k', alpha=0.7)\n",
    "    plt.xlabel('In-degree', fontsize=14)\n",
    "    plt.ylabel('Frequency', fontsize=14)\n",
    "    plt.title('In-degree Distribution', fontsize=16)\n",
    "    plt.grid(True)\n",
    "    \n",
    "    plt.subplot(1, 3, 3)\n",
    "    plt.hist(out_degrees, bins=30, color='lightgreen', edgecolor='k', alpha=0.7)\n",
    "    plt.xlabel('Out-degree', fontsize=14)\n",
    "    plt.ylabel('Frequency', fontsize=14)\n",
    "    plt.title('Out-degree Distribution', fontsize=16)\n",
    "    plt.grid(True)\n",
    "    \n",
    "    plt.tight_layout()\n",
    "    plt.show()\n",
    "\n",
    "# Convert the adjacency matrices of ER_dag_adj_matrix and and G_A_init_t_ordered_dag_adj_matrix to graphs\n",
    "ER_dag_graph = adjacency_matrix_to_graph(ER_dag)\n",
    "G_A_init_t_ordered_dag_graph = adjacency_matrix_to_graph(G_A_init_t_ordered_dag_adj_matrix)\n",
    "\n",
    "# Inspect properties of the graphs\n",
    "print(\"Properties of ER DAG graph:\")\n",
    "inspect_graph_properties(ER_dag_graph)\n",
    "print()\n",
    "print(\"Properties of G_A_init_t_ordered DAG graph:\")\n",
    "inspect_graph_properties(G_A_init_t_ordered_dag_graph)"
   ]
  },
  {
   "cell_type": "code",
   "execution_count": null,
   "metadata": {},
   "outputs": [],
   "source": [
    "# Convert the adjacency matrices of ER and G_A_init_t_ordered_adj_matrix to graphs\n",
    "ER_graph = adjacency_matrix_to_graph(ER)\n",
    "G_A_init_t_ordered_graph = adjacency_matrix_to_graph(G_A_init_t_ordered_adj_matrix)\n",
    "\n",
    "# Inspect properties of the graphs\n",
    "print(\"Properties of ER graph:\")\n",
    "inspect_graph_properties(ER_graph)\n",
    "print()\n",
    "print(\"Properties of G_A_init_t_ordered graph:\")\n",
    "inspect_graph_properties(G_A_init_t_ordered_graph)"
   ]
  },
  {
   "cell_type": "code",
   "execution_count": null,
   "metadata": {},
   "outputs": [],
   "source": [
    "# show unique values in ER_dag and G_A_init_t_ordered_dag_adj_matrix\n",
    "print(\"Unique values in ER_dag:\", np.unique(ER_dag))\n",
    "print()\n",
    "print(\"Unique values in G_A_init_t_ordered_dag_adj_matrix:\", np.unique(G_A_init_t_ordered_dag_adj_matrix))\n",
    "print()\n",
    "# now ER and G_A_init_t_ordered_adj_matrix\n",
    "print(\"Unique values in ER:\", np.unique(ER))\n",
    "print()\n",
    "print(\"Unique values in G_A_init_t_ordered_adj_matrix:\", np.unique(G_A_init_t_ordered_adj_matrix))"
   ]
  },
  {
   "cell_type": "code",
   "execution_count": null,
   "metadata": {},
   "outputs": [],
   "source": [
    "# Example usage\n",
    "folder = './data/'\n",
    "G_A_init_t_ordered_adj_matrix_binary = np.load(os.path.join(folder, 'G_A_init_t_ordered_adj_matrix_binary.npy'))\n",
    "G_A_init_t_ordered_dag_adj_matrix_binary = np.load(os.path.join(folder, 'G_A_init_t_ordered_dag_adj_matrix_binary.npy'))\n",
    "\n",
    "# show unique values in G_A_init_t_ordered_adj_matrix_binary and G_A_init_t_ordered_dag_adj_matrix_binary\n",
    "print(\"Unique values in G_A_init_t_ordered_adj_matrix_binary:\", np.unique(G_A_init_t_ordered_adj_matrix_binary))\n",
    "print()\n",
    "print(\"Unique values in G_A_init_t_ordered_dag_adj_matrix_binary:\", np.unique(G_A_init_t_ordered_dag_adj_matrix_binary))"
   ]
  },
  {
   "cell_type": "code",
   "execution_count": null,
   "metadata": {},
   "outputs": [],
   "source": [
    "plot_adjacency_matrix(G_A_init_t_ordered_adj_matrix_binary, title=\"G_A_init_t_ordered Binary Adjacency Matrix\")\n",
    "print()\n",
    "plot_adjacency_matrix(G_A_init_t_ordered_dag_adj_matrix_binary, title=\"G_A_init_t_ordered DAG Binary Adjacency Matrix\")"
   ]
  },
  {
   "cell_type": "code",
   "execution_count": null,
   "metadata": {},
   "outputs": [],
   "source": [
    "# now load the binary upper triangular DAG adjacency matrices for ER and connectome: ER_dag_upper_triangular_binary and G_A_init_t_ordered_dag_upper_triangular_binary\n",
    "ER_dag_upper_triangular_binary = np.load(os.path.join(folder, 'ER_dag_upper_triangular_binary.npy'))\n",
    "G_A_init_t_ordered_dag_upper_triangular_binary = np.load(os.path.join(folder, 'G_A_init_t_ordered_dag_upper_triangular_binary.npy'))"
   ]
  },
  {
   "cell_type": "code",
   "execution_count": null,
   "metadata": {},
   "outputs": [],
   "source": [
    "# now plot the permuted DAG adjacency matrices of G_A_init_t_ordered_dag_upper_triangular and ER_dag_upper_triangular\n",
    "plot_adjacency_matrix(G_A_init_t_ordered_dag_upper_triangular_binary, title=\"G_A_init_t_ordered DAG Upper Triangular Adjacency Matrix\")\n",
    "print()\n",
    "plot_adjacency_matrix(ER_dag_upper_triangular_binary, title=\"ER DAG Upper Triangular Adjacency Matrix\")"
   ]
  },
  {
   "cell_type": "code",
   "execution_count": null,
   "metadata": {},
   "outputs": [],
   "source": []
  }
 ],
 "metadata": {
  "kernelspec": {
   "display_name": "pcax24",
   "language": "python",
   "name": "python3"
  },
  "language_info": {
   "codemirror_mode": {
    "name": "ipython",
    "version": 3
   },
   "file_extension": ".py",
   "mimetype": "text/x-python",
   "name": "python",
   "nbconvert_exporter": "python",
   "pygments_lexer": "ipython3",
   "version": "3.9.19"
  }
 },
 "nbformat": 4,
 "nbformat_minor": 2
}
