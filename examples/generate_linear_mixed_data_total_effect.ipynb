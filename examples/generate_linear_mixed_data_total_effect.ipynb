{
 "cells": [
  {
   "cell_type": "code",
   "execution_count": 2,
   "metadata": {},
   "outputs": [
    {
     "name": "stdout",
     "output_type": "stream",
     "text": [
      "['1.26.4', '1.5.3', '0.20.3', '1.9.0']\n"
     ]
    }
   ],
   "source": [
    "import numpy as np\n",
    "import pandas as pd\n",
    "import graphviz\n",
    "import lingam\n",
    "from lingam.utils import make_dot\n",
    "\n",
    "print([np.__version__, pd.__version__, graphviz.__version__, lingam.__version__])\n",
    "\n",
    "np.set_printoptions(precision=3, suppress=True)\n",
    "np.random.seed(0)"
   ]
  },
  {
   "cell_type": "code",
   "execution_count": 33,
   "metadata": {},
   "outputs": [],
   "source": [
    "### function to compute total effect from W\n",
    "def compute_total_effect(W, source, target):\n",
    "    T = np.zeros_like(W)  # Initialize total effect matrix\n",
    "    W_power = W.copy()    # Current power of W (starts at W^1)\n",
    "    \n",
    "    # Iterate until W_power has no non-zero entries\n",
    "    while np.any(W_power):\n",
    "        T += W_power  # Accumulate effects from current path length\n",
    "        W_power = W_power @ W  # Compute next power\n",
    "        \n",
    "    return T[source, target]\n"
   ]
  },
  {
   "cell_type": "code",
   "execution_count": null,
   "metadata": {},
   "outputs": [],
   "source": [
    "# Using the total effect matrix to compute the total effect without iterative matrix power calculation, thus more efficient and numerically stable\n",
    "def compute_total_effect(W, source, target):\n",
    "    \"\"\"\n",
    "    Compute total effect from source to target using matrix inversion.\n",
    "    \n",
    "    Args:\n",
    "        W (np.ndarray): Weighted adjacency matrix.\n",
    "        source (int): Index of source variable.\n",
    "        target (int): Index of target variable.\n",
    "    \n",
    "    Returns:\n",
    "        float: Total effect from source to target.\n",
    "    \"\"\"\n",
    "    try:\n",
    "        I = np.eye(W.shape[0])\n",
    "        T = np.linalg.inv(I - W) - I  # Compute total effect matrix\n",
    "        return T[source, target]\n",
    "    except np.linalg.LinAlgError:\n",
    "        raise ValueError(\"Matrix inversion failed, likely due to cycles (I - W is singular).\")\n"
   ]
  },
  {
   "cell_type": "code",
   "execution_count": 34,
   "metadata": {},
   "outputs": [
    {
     "data": {
      "text/plain": [
       "'total_effect.pdf'"
      ]
     },
     "execution_count": 34,
     "metadata": {},
     "output_type": "execute_result"
    }
   ],
   "source": [
    "W = np.array([[0.0, 3.0, 2.0, -11.0, 0.0, 0.0],\n",
    "              [0.0, 0.0, 0.0, 3.0, 0.0, 0.0],\n",
    "              [0.0, 0.0, 0.0, 6.0, 0.0, 0.0],\n",
    "              [0.0, 0.0, 0.0, 0.0, 0.0, 0.0],\n",
    "              [0.0, 8.0,-1.0, 0.0, 0.0, 0.0],\n",
    "              [0.0, 4.0, 0.0, 0.0, 0.0, 0.0]])\n",
    "\n",
    "# total effect of X0 on X3 should be 10.0\n",
    "\n",
    "# show the graph using graphviz\n",
    "dot = make_dot(W.T) # Transpose W to make rows as source and columns as target\n",
    "dot.render('total_effect', format='pdf', cleanup=True)"
   ]
  },
  {
   "cell_type": "code",
   "execution_count": 35,
   "metadata": {},
   "outputs": [
    {
     "name": "stdout",
     "output_type": "stream",
     "text": [
      "[[0. 0. 1. 1. 1. 1.]]\n"
     ]
    },
    {
     "data": {
      "text/html": [
       "<div>\n",
       "<style scoped>\n",
       "    .dataframe tbody tr th:only-of-type {\n",
       "        vertical-align: middle;\n",
       "    }\n",
       "\n",
       "    .dataframe tbody tr th {\n",
       "        vertical-align: top;\n",
       "    }\n",
       "\n",
       "    .dataframe thead th {\n",
       "        text-align: right;\n",
       "    }\n",
       "</style>\n",
       "<table border=\"1\" class=\"dataframe\">\n",
       "  <thead>\n",
       "    <tr style=\"text-align: right;\">\n",
       "      <th></th>\n",
       "      <th>x0</th>\n",
       "      <th>x1</th>\n",
       "      <th>x2</th>\n",
       "      <th>x3</th>\n",
       "      <th>x4</th>\n",
       "      <th>x5</th>\n",
       "    </tr>\n",
       "  </thead>\n",
       "  <tbody>\n",
       "    <tr>\n",
       "      <th>0</th>\n",
       "      <td>1.0</td>\n",
       "      <td>1.0</td>\n",
       "      <td>0.886918</td>\n",
       "      <td>-1.576497</td>\n",
       "      <td>1.657459</td>\n",
       "      <td>1.256161</td>\n",
       "    </tr>\n",
       "    <tr>\n",
       "      <th>1</th>\n",
       "      <td>0.0</td>\n",
       "      <td>1.0</td>\n",
       "      <td>0.184251</td>\n",
       "      <td>4.704964</td>\n",
       "      <td>0.756968</td>\n",
       "      <td>1.172128</td>\n",
       "    </tr>\n",
       "    <tr>\n",
       "      <th>2</th>\n",
       "      <td>1.0</td>\n",
       "      <td>1.0</td>\n",
       "      <td>2.360945</td>\n",
       "      <td>6.669432</td>\n",
       "      <td>0.128999</td>\n",
       "      <td>0.873003</td>\n",
       "    </tr>\n",
       "    <tr>\n",
       "      <th>3</th>\n",
       "      <td>0.0</td>\n",
       "      <td>1.0</td>\n",
       "      <td>1.036040</td>\n",
       "      <td>9.777315</td>\n",
       "      <td>0.198537</td>\n",
       "      <td>0.200981</td>\n",
       "    </tr>\n",
       "    <tr>\n",
       "      <th>4</th>\n",
       "      <td>0.0</td>\n",
       "      <td>1.0</td>\n",
       "      <td>0.448003</td>\n",
       "      <td>5.800797</td>\n",
       "      <td>0.412891</td>\n",
       "      <td>0.533156</td>\n",
       "    </tr>\n",
       "  </tbody>\n",
       "</table>\n",
       "</div>"
      ],
      "text/plain": [
       "    x0   x1        x2        x3        x4        x5\n",
       "0  1.0  1.0  0.886918 -1.576497  1.657459  1.256161\n",
       "1  0.0  1.0  0.184251  4.704964  0.756968  1.172128\n",
       "2  1.0  1.0  2.360945  6.669432  0.128999  0.873003\n",
       "3  0.0  1.0  1.036040  9.777315  0.198537  0.200981\n",
       "4  0.0  1.0  0.448003  5.800797  0.412891  0.533156"
      ]
     },
     "execution_count": 35,
     "metadata": {},
     "output_type": "execute_result"
    }
   ],
   "source": [
    "from mixed_obs_data_generator import simulate_linear_mixed_sem\n",
    "\n",
    "n = 1000\n",
    "is_cont = np.ones(shape=(1, W.shape[0]))\n",
    "# set 0 idx to 0 to indicate that the first variable is discrete\n",
    "# set 1 idx to 0 to indicate that the second variable is discrete\n",
    "is_cont[0, 0] = 0.0\n",
    "is_cont[0, 1] = 0.0\n",
    "print(is_cont)\n",
    "sem_type = 'mixed_random_i_dis'\n",
    "X = simulate_linear_mixed_sem(W=W, n_samples=n, is_cont=is_cont, sem_type=sem_type)\n",
    "X_df = pd.DataFrame(X, columns=[f'x{i}' for i in range(X.shape[1])])\n",
    "X_df.head()"
   ]
  },
  {
   "cell_type": "code",
   "execution_count": 54,
   "metadata": {},
   "outputs": [
    {
     "name": "stdout",
     "output_type": "stream",
     "text": [
      "total effect: 1.102\n"
     ]
    },
    {
     "name": "stderr",
     "output_type": "stream",
     "text": [
      "/share/amine.mcharrak/miniconda3/envs/pcax24/lib/python3.10/site-packages/sklearn/decomposition/_fastica.py:128: ConvergenceWarning: FastICA did not converge. Consider increasing tolerance or the maximum number of iterations.\n",
      "  warnings.warn(\n"
     ]
    }
   ],
   "source": [
    "# ICALiNGAM has estimate_total_effect method\n",
    "model = lingam.ICALiNGAM()\n",
    "model.fit(X=X)\n",
    "\n",
    "# LiM does not have estimate_total_effect method\n",
    "#model = lingam.LiM()\n",
    "#model.fit(X=X, dis_con=is_cont, only_global=True)\n",
    "\n",
    "W_est = model._adjacency_matrix.T # Transpose to make rows as source and columns as target\n",
    "\n",
    "# x0 --> x3\n",
    "te = model.estimate_total_effect(X, from_index=0, to_index=3) # index start from 0\n",
    "print(f'total effect: {te:.3f}')"
   ]
  },
  {
   "cell_type": "code",
   "execution_count": 55,
   "metadata": {},
   "outputs": [
    {
     "data": {
      "image/svg+xml": [
       "<?xml version=\"1.0\" encoding=\"UTF-8\" standalone=\"no\"?>\n",
       "<!DOCTYPE svg PUBLIC \"-//W3C//DTD SVG 1.1//EN\"\n",
       " \"http://www.w3.org/Graphics/SVG/1.1/DTD/svg11.dtd\">\n",
       "<!-- Generated by graphviz version 12.0.0 (20240803.0821)\n",
       " -->\n",
       "<!-- Pages: 1 -->\n",
       "<svg width=\"269pt\" height=\"220pt\"\n",
       " viewBox=\"0.00 0.00 269.00 219.50\" xmlns=\"http://www.w3.org/2000/svg\" xmlns:xlink=\"http://www.w3.org/1999/xlink\">\n",
       "<g id=\"graph0\" class=\"graph\" transform=\"scale(1 1) rotate(0) translate(4 215.5)\">\n",
       "<polygon fill=\"white\" stroke=\"none\" points=\"-4,4 -4,-215.5 265,-215.5 265,4 -4,4\"/>\n",
       "<!-- x0 -->\n",
       "<g id=\"node1\" class=\"node\">\n",
       "<title>x0</title>\n",
       "<ellipse fill=\"none\" stroke=\"black\" cx=\"27\" cy=\"-193.5\" rx=\"27\" ry=\"18\"/>\n",
       "<text text-anchor=\"middle\" x=\"27\" y=\"-188.07\" font-family=\"Times,serif\" font-size=\"14.00\">x0</text>\n",
       "</g>\n",
       "<!-- x1 -->\n",
       "<g id=\"node2\" class=\"node\">\n",
       "<title>x1</title>\n",
       "<ellipse fill=\"none\" stroke=\"black\" cx=\"176\" cy=\"-105.75\" rx=\"27\" ry=\"18\"/>\n",
       "<text text-anchor=\"middle\" x=\"176\" y=\"-100.33\" font-family=\"Times,serif\" font-size=\"14.00\">x1</text>\n",
       "</g>\n",
       "<!-- x0&#45;&gt;x1 -->\n",
       "<g id=\"edge1\" class=\"edge\">\n",
       "<title>x0&#45;&gt;x1</title>\n",
       "<path fill=\"none\" stroke=\"black\" d=\"M40.8,-177.52C51.67,-166.44 67.67,-151.61 84,-141.75 103.51,-129.98 110.71,-131.86 132,-123.75 135.44,-122.44 139.04,-121.06 142.62,-119.69\"/>\n",
       "<polygon fill=\"black\" stroke=\"black\" points=\"143.7,-123.02 151.77,-116.16 141.18,-116.49 143.7,-123.02\"/>\n",
       "<text text-anchor=\"middle\" x=\"97.5\" y=\"-144.2\" font-family=\"Times,serif\" font-size=\"14.00\">3.00</text>\n",
       "</g>\n",
       "<!-- x2 -->\n",
       "<g id=\"node3\" class=\"node\">\n",
       "<title>x2</title>\n",
       "<ellipse fill=\"none\" stroke=\"black\" cx=\"96\" cy=\"-105.75\" rx=\"27\" ry=\"18\"/>\n",
       "<text text-anchor=\"middle\" x=\"96\" y=\"-100.33\" font-family=\"Times,serif\" font-size=\"14.00\">x2</text>\n",
       "</g>\n",
       "<!-- x0&#45;&gt;x2 -->\n",
       "<g id=\"edge4\" class=\"edge\">\n",
       "<title>x0&#45;&gt;x2</title>\n",
       "<path fill=\"none\" stroke=\"black\" d=\"M23.14,-175.26C21.77,-164.81 21.84,-151.62 28,-141.75 35.28,-130.07 47.81,-122.11 60.15,-116.78\"/>\n",
       "<polygon fill=\"black\" stroke=\"black\" points=\"61.28,-120.09 69.39,-113.27 58.8,-113.55 61.28,-120.09\"/>\n",
       "<text text-anchor=\"middle\" x=\"41.5\" y=\"-144.2\" font-family=\"Times,serif\" font-size=\"14.00\">2.00</text>\n",
       "</g>\n",
       "<!-- x3 -->\n",
       "<g id=\"node4\" class=\"node\">\n",
       "<title>x3</title>\n",
       "<ellipse fill=\"none\" stroke=\"black\" cx=\"96\" cy=\"-18\" rx=\"27\" ry=\"18\"/>\n",
       "<text text-anchor=\"middle\" x=\"96\" y=\"-12.57\" font-family=\"Times,serif\" font-size=\"14.00\">x3</text>\n",
       "</g>\n",
       "<!-- x0&#45;&gt;x3 -->\n",
       "<g id=\"edge6\" class=\"edge\">\n",
       "<title>x0&#45;&gt;x3</title>\n",
       "<path fill=\"none\" stroke=\"black\" d=\"M21.05,-175.67C14.51,-154.23 6.52,-116.5 19.5,-87.75 29.23,-66.19 49.38,-48.53 66.55,-36.52\"/>\n",
       "<polygon fill=\"black\" stroke=\"black\" points=\"68.05,-39.72 74.44,-31.27 64.18,-33.89 68.05,-39.72\"/>\n",
       "<text text-anchor=\"middle\" x=\"40.25\" y=\"-100.33\" font-family=\"Times,serif\" font-size=\"14.00\">&#45;11.00</text>\n",
       "</g>\n",
       "<!-- x1&#45;&gt;x3 -->\n",
       "<g id=\"edge7\" class=\"edge\">\n",
       "<title>x1&#45;&gt;x3</title>\n",
       "<path fill=\"none\" stroke=\"black\" d=\"M162.07,-89.81C149.79,-76.66 131.72,-57.28 117.57,-42.12\"/>\n",
       "<polygon fill=\"black\" stroke=\"black\" points=\"120.19,-39.8 110.81,-34.87 115.07,-44.57 120.19,-39.8\"/>\n",
       "<text text-anchor=\"middle\" x=\"156.5\" y=\"-56.45\" font-family=\"Times,serif\" font-size=\"14.00\">3.00</text>\n",
       "</g>\n",
       "<!-- x2&#45;&gt;x3 -->\n",
       "<g id=\"edge8\" class=\"edge\">\n",
       "<title>x2&#45;&gt;x3</title>\n",
       "<path fill=\"none\" stroke=\"black\" d=\"M96,-87.4C96,-76.01 96,-60.84 96,-47.68\"/>\n",
       "<polygon fill=\"black\" stroke=\"black\" points=\"99.5,-47.84 96,-37.84 92.5,-47.84 99.5,-47.84\"/>\n",
       "<text text-anchor=\"middle\" x=\"109.5\" y=\"-56.45\" font-family=\"Times,serif\" font-size=\"14.00\">6.00</text>\n",
       "</g>\n",
       "<!-- x4 -->\n",
       "<g id=\"node5\" class=\"node\">\n",
       "<title>x4</title>\n",
       "<ellipse fill=\"none\" stroke=\"black\" cx=\"144\" cy=\"-193.5\" rx=\"27\" ry=\"18\"/>\n",
       "<text text-anchor=\"middle\" x=\"144\" y=\"-188.07\" font-family=\"Times,serif\" font-size=\"14.00\">x4</text>\n",
       "</g>\n",
       "<!-- x4&#45;&gt;x1 -->\n",
       "<g id=\"edge2\" class=\"edge\">\n",
       "<title>x4&#45;&gt;x1</title>\n",
       "<path fill=\"none\" stroke=\"black\" d=\"M153.14,-176.44C156.23,-170.6 159.52,-163.87 162,-157.5 164.79,-150.35 167.26,-142.43 169.31,-135.01\"/>\n",
       "<polygon fill=\"black\" stroke=\"black\" points=\"172.68,-135.98 171.81,-125.42 165.9,-134.21 172.68,-135.98\"/>\n",
       "<text text-anchor=\"middle\" x=\"180.5\" y=\"-144.2\" font-family=\"Times,serif\" font-size=\"14.00\">8.00</text>\n",
       "</g>\n",
       "<!-- x4&#45;&gt;x2 -->\n",
       "<g id=\"edge5\" class=\"edge\">\n",
       "<title>x4&#45;&gt;x2</title>\n",
       "<path fill=\"none\" stroke=\"black\" d=\"M134.74,-176.13C131.42,-170.26 127.66,-163.59 124.25,-157.5 119.73,-149.43 114.81,-140.62 110.37,-132.64\"/>\n",
       "<polygon fill=\"black\" stroke=\"black\" points=\"113.54,-131.13 105.62,-124.09 107.42,-134.53 113.54,-131.13\"/>\n",
       "<text text-anchor=\"middle\" x=\"140.88\" y=\"-144.2\" font-family=\"Times,serif\" font-size=\"14.00\">&#45;1.00</text>\n",
       "</g>\n",
       "<!-- x5 -->\n",
       "<g id=\"node6\" class=\"node\">\n",
       "<title>x5</title>\n",
       "<ellipse fill=\"none\" stroke=\"black\" cx=\"234\" cy=\"-193.5\" rx=\"27\" ry=\"18\"/>\n",
       "<text text-anchor=\"middle\" x=\"234\" y=\"-188.07\" font-family=\"Times,serif\" font-size=\"14.00\">x5</text>\n",
       "</g>\n",
       "<!-- x5&#45;&gt;x1 -->\n",
       "<g id=\"edge3\" class=\"edge\">\n",
       "<title>x5&#45;&gt;x1</title>\n",
       "<path fill=\"none\" stroke=\"black\" d=\"M223.36,-176.77C214.91,-164.28 202.93,-146.56 193.13,-132.08\"/>\n",
       "<polygon fill=\"black\" stroke=\"black\" points=\"196.12,-130.24 187.62,-123.92 190.32,-134.17 196.12,-130.24\"/>\n",
       "<text text-anchor=\"middle\" x=\"223.5\" y=\"-144.2\" font-family=\"Times,serif\" font-size=\"14.00\">4.00</text>\n",
       "</g>\n",
       "</g>\n",
       "</svg>\n"
      ],
      "text/plain": [
       "<graphviz.graphs.Digraph at 0x7f6678ba96c0>"
      ]
     },
     "execution_count": 55,
     "metadata": {},
     "output_type": "execute_result"
    }
   ],
   "source": [
    "# show the graph\n",
    "dot"
   ]
  },
  {
   "cell_type": "code",
   "execution_count": 58,
   "metadata": {},
   "outputs": [
    {
     "name": "stdout",
     "output_type": "stream",
     "text": [
      "True Total effect of X0 on X3: 10.0\n",
      "Estimated Total effect of X0 on X3: 1.166223553541347\n"
     ]
    }
   ],
   "source": [
    "# Compute total effect of X0 (source=0) on X3 (target=3)\n",
    "true_total_effect = compute_total_effect(W, source=0, target=3)\n",
    "print(f\"True Total effect of X0 on X3: {true_total_effect}\")\n",
    "\n",
    "est_total_effect = compute_total_effect(W_est, source=0, target=3)\n",
    "print(f\"Estimated Total effect of X0 on X3: {est_total_effect}\")"
   ]
  },
  {
   "cell_type": "code",
   "execution_count": 1,
   "metadata": {},
   "outputs": [
    {
     "data": {
      "text/plain": [
       "'test.gv.pdf'"
      ]
     },
     "execution_count": 1,
     "metadata": {},
     "output_type": "execute_result"
    }
   ],
   "source": [
    "from graphviz import Digraph\n",
    "dot = Digraph()\n",
    "dot.node('A')\n",
    "dot.node('B')\n",
    "dot.edge('A', 'B')\n",
    "dot.render('test.gv')  # Should create test.gv.pdf"
   ]
  },
  {
   "cell_type": "code",
   "execution_count": null,
   "metadata": {},
   "outputs": [],
   "source": [
    "compute_total_effect"
   ]
  }
 ],
 "metadata": {
  "kernelspec": {
   "display_name": "pcax24",
   "language": "python",
   "name": "python3"
  },
  "language_info": {
   "codemirror_mode": {
    "name": "ipython",
    "version": 3
   },
   "file_extension": ".py",
   "mimetype": "text/x-python",
   "name": "python",
   "nbconvert_exporter": "python",
   "pygments_lexer": "ipython3",
   "version": "3.10.13"
  }
 },
 "nbformat": 4,
 "nbformat_minor": 2
}
